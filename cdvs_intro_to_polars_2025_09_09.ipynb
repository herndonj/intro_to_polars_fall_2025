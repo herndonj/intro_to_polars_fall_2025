{
  "cells": [
    {
      "cell_type": "markdown",
      "metadata": {
        "id": "2BpXYam9cSrW"
      },
      "source": [
        "# Introduction to Polars using Python\n",
        "\n",
        "This workshop is part of the [CDVS Fall 2025 workshop series](library.duke.edu/data/workshops). If you have questions about the content or would like to schedule a consulation with Duke Libraries [Center for Data and Visualization Sciences](library.duke.edu/data), please contact the instructor: Joel Herndon (joel.herndon@duke.edu)."
      ]
    },
    {
      "cell_type": "markdown",
      "metadata": {
        "id": "aO-0rCV1eEun"
      },
      "source": [
        "**Abstract**  \n",
        "Polars provides an open source library for data manipulation that allows fast, large-scale data work in multiple data analytics languages without the need for specialized computing. This workshop focuses on using the Polars library in the Python programming language. We will spend workshop time covering the context for Polars, common commands (data manipulation processes), and close by considering possibilities of using Polars as part of a larger data workflow. This event is open to non-Duke participants."
      ]
    },
    {
      "cell_type": "markdown",
      "metadata": {
        "id": "efif8Mfpq8Z0"
      },
      "source": [
        "## Why Polars?\n",
        "\n",
        "Why another data manipulation language?\n",
        "\n",
        "1. Speed (especially on laptops/personal machines)\n",
        "2. Strictness/Consistency\n",
        "3. Expressiveness"
      ]
    },
    {
      "cell_type": "markdown",
      "metadata": {
        "id": "7rKJuXuQMkLd"
      },
      "source": [
        "## Workshop goals and guidelines\n",
        "\n",
        "- This workshop provides an overview of Polars fundamentals. The goal of the workshop is to provide enough detail to enable you to evaluate whether Polars is a good fit for your work.\n",
        "  - We will use fairly simple examples, but Polars is capable of much more complex work.\n",
        "  - We won't cover all the features available in Polars in this hour long workshop, but I hope you continue to explore!\n",
        "  - We won't consider all aspects of the Polars API, but I list some resources at the end that will provide details.\n",
        "\n",
        "- We are using Google's Colab in the live workshop, but I'd encourage everyone to consider a full featured code development environment if you wish to use polars further.\n",
        "\n",
        "- You are encouraged to ask questions, both during the workshop. We're also happy to stay in touch at askdata@duke.edu after the workshop!"
      ]
    },
    {
      "cell_type": "markdown",
      "metadata": {
        "id": "EnWC0dSsefaF"
      },
      "source": [
        "## Core data structures\n",
        "\n",
        "Polars has two prominent data structures.\n",
        "\n",
        "1. Series\n",
        "2. DataFrames\n",
        "\n",
        "### 1. Series\n",
        "\n",
        "- named, one-dimensional data structures\n",
        "- containing sequential data\n",
        "- all data are of the same type (homogenous)\n",
        "\n",
        " Key aspects of a polars Series:\n",
        "\n",
        "- It is immutable (operations create new Series rather than modifying existing ones)\n",
        "- It is designed for fast vectorized operations\n",
        "- It can handle null (missing) values while maintaining strong typing\n",
        "\n"
      ]
    },
    {
      "cell_type": "markdown",
      "metadata": {
        "id": "YQB_F1t1T8Co"
      },
      "source": [
        "Let's build two small polars Series comprised of:\n",
        "\n",
        "1. the names of coffee drinks\n",
        "2. the prices of coffee drinks"
      ]
    },
    {
      "cell_type": "code",
      "execution_count": null,
      "metadata": {
        "id": "C6PKQru-Z6U2"
      },
      "outputs": [
        {
          "data": {
            "text/html": [
              "<div><style>\n",
              ".dataframe > thead > tr,\n",
              ".dataframe > tbody > tr {\n",
              "  text-align: right;\n",
              "  white-space: pre-wrap;\n",
              "}\n",
              "</style>\n",
              "<small>shape: (6,)</small><table border=\"1\" class=\"dataframe\"><thead><tr><th>coffee_drinks</th></tr><tr><td>str</td></tr></thead><tbody><tr><td>&quot;brewed coffee&quot;</td></tr><tr><td>&quot;latte&quot;</td></tr><tr><td>&quot;mocha&quot;</td></tr><tr><td>&quot;espresso&quot;</td></tr><tr><td>&quot;latte&quot;</td></tr><tr><td>&quot;mocha&quot;</td></tr></tbody></table></div>"
            ],
            "text/plain": [
              "shape: (6,)\n",
              "Series: 'coffee_drinks' [str]\n",
              "[\n",
              "\t\"brewed coffee\"\n",
              "\t\"latte\"\n",
              "\t\"mocha\"\n",
              "\t\"espresso\"\n",
              "\t\"latte\"\n",
              "\t\"mocha\"\n",
              "]"
            ]
          },
          "execution_count": null,
          "metadata": {},
          "output_type": "execute_result"
        }
      ],
      "source": [
        "# first, we need to load polars into memory\n",
        "import polars as pl\n",
        "\n",
        "coffee_drink_orders = pl.Series(\n",
        "    name = 'coffee_drinks',\n",
        "    values = ['brewed coffee', 'latte', 'mocha', 'espresso', 'latte', 'mocha']\n",
        "    )\n",
        "coffee_drink_orders"
      ]
    },
    {
      "cell_type": "code",
      "execution_count": null,
      "metadata": {
        "id": "YF7I3tkhYETa"
      },
      "outputs": [
        {
          "data": {
            "text/html": [
              "<div><style>\n",
              ".dataframe > thead > tr,\n",
              ".dataframe > tbody > tr {\n",
              "  text-align: right;\n",
              "  white-space: pre-wrap;\n",
              "}\n",
              "</style>\n",
              "<small>shape: (6,)</small><table border=\"1\" class=\"dataframe\"><thead><tr><th>coffee_prices</th></tr><tr><td>f64</td></tr></thead><tbody><tr><td>2.25</td></tr><tr><td>4.25</td></tr><tr><td>5.5</td></tr><tr><td>2.25</td></tr><tr><td>4.25</td></tr><tr><td>5.5</td></tr></tbody></table></div>"
            ],
            "text/plain": [
              "shape: (6,)\n",
              "Series: 'coffee_prices' [f64]\n",
              "[\n",
              "\t2.25\n",
              "\t4.25\n",
              "\t5.5\n",
              "\t2.25\n",
              "\t4.25\n",
              "\t5.5\n",
              "]"
            ]
          },
          "execution_count": null,
          "metadata": {},
          "output_type": "execute_result"
        }
      ],
      "source": [
        "# 2. prices of coffee drinks\n",
        "import polars as pl\n",
        "coffee_drink_prices = pl.Series(\n",
        "    name = 'coffee_prices',\n",
        "    values = [2.25, 4.25, 5.50, 2.25, 4.25, 5.50]\n",
        "    )\n",
        "coffee_drink_prices"
      ]
    },
    {
      "cell_type": "markdown",
      "metadata": {
        "id": "HDjnuSJkZCS5"
      },
      "source": [
        "### 2. DataFrames\n",
        "\n",
        "- named, two-dimensional data structures\n",
        "- containing a collection of Series (columns)\n",
        "- each column (polars Series) can hold a different data type\n",
        "- each column (polars Series) must contain the same number of elements\n",
        "\n",
        "Key aspects of a polars DataFrame:\n",
        "\n",
        "- It is heterogeneous (different columns can have different data types)\n",
        "- Columns are named\n",
        "- It is immutable (operations create new DataFrames rather than modifying existing ones)\n",
        "- The columns are internally stored as contiguous arrays, optimized for both row and column operations\n",
        "- It supports vectorized operations across multiple columns\n",
        "\n",
        "Since we have already have two polars Series (coffee drinks and coffee prices) with information about the coffee names and coffee prices, we can build a polars DataFrame from the two Series that we just created."
      ]
    },
    {
      "cell_type": "code",
      "execution_count": 4,
      "metadata": {
        "id": "WYIj4n1SaiJt"
      },
      "outputs": [
        {
          "data": {
            "text/html": [
              "<div><style>\n",
              ".dataframe > thead > tr,\n",
              ".dataframe > tbody > tr {\n",
              "  text-align: right;\n",
              "  white-space: pre-wrap;\n",
              "}\n",
              "</style>\n",
              "<small>shape: (6, 2)</small><table border=\"1\" class=\"dataframe\"><thead><tr><th>name</th><th>price</th></tr><tr><td>str</td><td>f64</td></tr></thead><tbody><tr><td>&quot;brewed coffee&quot;</td><td>2.25</td></tr><tr><td>&quot;latte&quot;</td><td>4.25</td></tr><tr><td>&quot;mocha&quot;</td><td>5.5</td></tr><tr><td>&quot;espresso&quot;</td><td>2.25</td></tr><tr><td>&quot;latte&quot;</td><td>4.25</td></tr><tr><td>&quot;mocha&quot;</td><td>5.5</td></tr></tbody></table></div>"
            ],
            "text/plain": [
              "shape: (6, 2)\n",
              "┌───────────────┬───────┐\n",
              "│ name          ┆ price │\n",
              "│ ---           ┆ ---   │\n",
              "│ str           ┆ f64   │\n",
              "╞═══════════════╪═══════╡\n",
              "│ brewed coffee ┆ 2.25  │\n",
              "│ latte         ┆ 4.25  │\n",
              "│ mocha         ┆ 5.5   │\n",
              "│ espresso      ┆ 2.25  │\n",
              "│ latte         ┆ 4.25  │\n",
              "│ mocha         ┆ 5.5   │\n",
              "└───────────────┴───────┘"
            ]
          },
          "execution_count": null,
          "metadata": {},
          "output_type": "execute_result"
        }
      ],
      "source": [
        "# DataFrame of names and prices of coffee drinks\n",
        "coffee_df = pl.DataFrame(\n",
        "    {\n",
        "        'name' : coffee_drink_orders,\n",
        "        'price': coffee_drink_prices\n",
        "    }\n",
        ")\n",
        "coffee_df"
      ]
    },
    {
      "cell_type": "markdown",
      "metadata": {
        "id": "0AH7nKnrpxt7"
      },
      "source": [
        "Another popular approach for creating DataFrame in code is to utilize a group of python dictionaries create the Series that comprise the polars DataFrame.\n",
        "\n",
        "The following code combines four dictionaries into a new DataFrame called `flights`.\n",
        "\n",
        "I created this small dataframe of various flights from Raleigh Durham airport (RDU) so that we can explore Polars data wrangling in a way where you can see the transformations clearly. We'll use this dataset in some common data manipulation tasks that follow.\n",
        "\n",
        "Note: the distance variables is courtesy of: [https://www.airportdistancecalculator.com/](https://www.airportdistancecalculator.com/)"
      ]
    },
    {
      "cell_type": "code",
      "execution_count": 5,
      "metadata": {
        "id": "EvaO1YC-qbMC"
      },
      "outputs": [
        {
          "data": {
            "text/html": [
              "<div><style>\n",
              ".dataframe > thead > tr,\n",
              ".dataframe > tbody > tr {\n",
              "  text-align: right;\n",
              "  white-space: pre-wrap;\n",
              "}\n",
              "</style>\n",
              "<small>shape: (6, 4)</small><table border=\"1\" class=\"dataframe\"><thead><tr><th>flight</th><th>cost</th><th>distance_km</th><th>non_stop</th></tr><tr><td>str</td><td>f64</td><td>i64</td><td>bool</td></tr></thead><tbody><tr><td>&quot;Raleigh Durham to Svalbard&quot;</td><td>null</td><td>6209</td><td>false</td></tr><tr><td>&quot;Raleigh Durham to London&quot;</td><td>1200.0</td><td>6216</td><td>true</td></tr><tr><td>&quot;Raleigh Durham to Los Angeles&quot;</td><td>600.0</td><td>3595</td><td>true</td></tr><tr><td>&quot;Raleigh Durham to Boston&quot;</td><td>250.0</td><td>985</td><td>true</td></tr><tr><td>&quot;Raleigh Durham to Chicago&quot;</td><td>300.0</td><td>1040</td><td>false</td></tr><tr><td>&quot;Raleigh Durham to New York&quot;</td><td>420.0</td><td>693</td><td>true</td></tr></tbody></table></div>"
            ],
            "text/plain": [
              "shape: (6, 4)\n",
              "┌───────────────────────────────┬────────┬─────────────┬──────────┐\n",
              "│ flight                        ┆ cost   ┆ distance_km ┆ non_stop │\n",
              "│ ---                           ┆ ---    ┆ ---         ┆ ---      │\n",
              "│ str                           ┆ f64    ┆ i64         ┆ bool     │\n",
              "╞═══════════════════════════════╪════════╪═════════════╪══════════╡\n",
              "│ Raleigh Durham to Svalbard    ┆ null   ┆ 6209        ┆ false    │\n",
              "│ Raleigh Durham to London      ┆ 1200.0 ┆ 6216        ┆ true     │\n",
              "│ Raleigh Durham to Los Angeles ┆ 600.0  ┆ 3595        ┆ true     │\n",
              "│ Raleigh Durham to Boston      ┆ 250.0  ┆ 985         ┆ true     │\n",
              "│ Raleigh Durham to Chicago     ┆ 300.0  ┆ 1040        ┆ false    │\n",
              "│ Raleigh Durham to New York    ┆ 420.0  ┆ 693         ┆ true     │\n",
              "└───────────────────────────────┴────────┴─────────────┴──────────┘"
            ]
          },
          "execution_count": null,
          "metadata": {},
          "output_type": "execute_result"
        }
      ],
      "source": [
        "import polars as pl\n",
        "flights = pl.DataFrame(\n",
        "    {\n",
        "        \"flight\": [\"Raleigh Durham to Svalbard\",\n",
        "                   \"Raleigh Durham to London\",\n",
        "                   \"Raleigh Durham to Los Angeles\",\n",
        "                   \"Raleigh Durham to Boston\",\n",
        "                   \"Raleigh Durham to Chicago\",\n",
        "                   \"Raleigh Durham to New York\"],\n",
        "        \"cost\": [None,1200.00,600.00,250.00,300.00, 420.00],\n",
        "        \"distance_km\": [6209,6216,3595,985,1040,693],\n",
        "        \"non_stop\": [False,True,True, True, False, True],\n",
        "    }\n",
        ")\n",
        "flights"
      ]
    },
    {
      "cell_type": "markdown",
      "metadata": {
        "id": "DmMYLzhTFdlY"
      },
      "source": [
        "## Common polars data types\n",
        "\n",
        "Polars has a wide range of [data types](https://docs.pola.rs/api/python/stable/reference/datatypes.html).\n",
        "\n",
        "For today's workshop, we will focus on:\n",
        "\n",
        "- Numeric types (on my mac the default is 64 bit floats (decimals) and 64 bit integers)\n",
        "- Strings\n",
        "- Booleans\n",
        "\n",
        "If you look at the output of the `flights` DataFrame above, you can see that Polars will assign default types to the data as they are assigned.\n"
      ]
    },
    {
      "cell_type": "markdown",
      "metadata": {
        "id": "gtyoejJ-bJXf"
      },
      "source": [
        "## Loading and saving data\n",
        "\n",
        "Generally, most of the data that you are going to use in Polars won't be created inside your program.\n",
        "\n",
        "Polars has a broad set of tools for loading and parsing data stored in a variety of common formats."
      ]
    },
    {
      "cell_type": "markdown",
      "metadata": {
        "id": "Cir3OFinYB8h"
      },
      "source": [
        "##### Delimited files\n",
        "\n",
        "Polars' `read_csv()` function will read comma delimited files when you provide a location for the file. Polars also uses the `read_csv()` function to load other delimited formats when specify the delimeter using the `separator` argument (see example below).\n",
        "\n",
        "Let's give it a try.\n",
        "\n",
        "When you execute the code block below, click the \"Choose Files\" button below the code, and upload the `flights.csv` file in the data directory that you downloaded earlier in the class."
      ]
    },
    {
      "cell_type": "code",
      "execution_count": null,
      "metadata": {
        "id": "MTsCyCWmYSkd"
      },
      "outputs": [
        {
          "data": {
            "text/html": [
              "<div><style>\n",
              ".dataframe > thead > tr,\n",
              ".dataframe > tbody > tr {\n",
              "  text-align: right;\n",
              "  white-space: pre-wrap;\n",
              "}\n",
              "</style>\n",
              "<small>shape: (6, 4)</small><table border=\"1\" class=\"dataframe\"><thead><tr><th>flight</th><th>cost</th><th>distance_km</th><th>non_stop</th></tr><tr><td>str</td><td>f64</td><td>i64</td><td>bool</td></tr></thead><tbody><tr><td>&quot;Raleigh Durham to Svalbard&quot;</td><td>null</td><td>6209</td><td>false</td></tr><tr><td>&quot;Raleigh Durham to London&quot;</td><td>1200.0</td><td>6216</td><td>true</td></tr><tr><td>&quot;Raleigh Durham to Los Angeles&quot;</td><td>600.0</td><td>3595</td><td>true</td></tr><tr><td>&quot;Raleigh Durham to Boston&quot;</td><td>250.0</td><td>985</td><td>true</td></tr><tr><td>&quot;Raleigh Durham to Chicago&quot;</td><td>300.0</td><td>1040</td><td>false</td></tr><tr><td>&quot;Raleigh Durham to New York&quot;</td><td>420.0</td><td>693</td><td>true</td></tr></tbody></table></div>"
            ],
            "text/plain": [
              "shape: (6, 4)\n",
              "┌───────────────────────────────┬────────┬─────────────┬──────────┐\n",
              "│ flight                        ┆ cost   ┆ distance_km ┆ non_stop │\n",
              "│ ---                           ┆ ---    ┆ ---         ┆ ---      │\n",
              "│ str                           ┆ f64    ┆ i64         ┆ bool     │\n",
              "╞═══════════════════════════════╪════════╪═════════════╪══════════╡\n",
              "│ Raleigh Durham to Svalbard    ┆ null   ┆ 6209        ┆ false    │\n",
              "│ Raleigh Durham to London      ┆ 1200.0 ┆ 6216        ┆ true     │\n",
              "│ Raleigh Durham to Los Angeles ┆ 600.0  ┆ 3595        ┆ true     │\n",
              "│ Raleigh Durham to Boston      ┆ 250.0  ┆ 985         ┆ true     │\n",
              "│ Raleigh Durham to Chicago     ┆ 300.0  ┆ 1040        ┆ false    │\n",
              "│ Raleigh Durham to New York    ┆ 420.0  ┆ 693         ┆ true     │\n",
              "└───────────────────────────────┴────────┴─────────────┴──────────┘"
            ]
          },
          "execution_count": null,
          "metadata": {},
          "output_type": "execute_result"
        }
      ],
      "source": [
        "# if you are running this outside of google colab\n",
        "# omit the first two lines\n",
        "from google.colab import files\n",
        "files.upload()\n",
        "df = pl.read_csv(\"flights.csv\") # basic example\n",
        "df"
      ]
    },
    {
      "cell_type": "markdown",
      "metadata": {
        "id": "CTfWEPCGbso7"
      },
      "source": [
        "In the example above, we had a relatively simple polars DataFrame with clean data. Sometimes, your data may have certain content that requires additional specification to load the data cleanly. Some common examples follow:\n",
        "\n",
        "1. Your data have missing values encoded as \"NA\" (a string), but should be treated as missing data.  \n",
        "`df = read_csv(\"flights.csv\", null_values=\"NA\")`\n",
        "\n",
        "2. Your data are delimited, but instead of using a comma, use a tab (\\t) or other delimiter.  \n",
        "`df = read_csv(\"flights.txt\", separator=\"\\t\") # tab delimited code`\n",
        "\n",
        "3. Your data contain dates and/or dates with times and you would like for Polars to attempt to convert those fields to the appropriate date or time type.  \n",
        "`df = read_csv(\"flights.csv\", try_parse_dates=True)`\n",
        "```"
      ]
    },
    {
      "cell_type": "markdown",
      "metadata": {
        "id": "jckpNP4JYKct"
      },
      "source": [
        "##### Excel\n",
        "\n",
        "No matter how you feel about Microsoft Excel, it is a very popular format. You can directly load a single sheet of excel data using Polars `read_excel` command.\n",
        "    \n",
        "**Note:** Polars uses a helper package to read excel files. In the example that follows, Google Colab appears to require the `fastexcel` package to be installed for this example to work. Please uncomment (remove the `#` symbol before `!pip install fastexcel`) in the first line to install `fastexcel` if needed. If you are using another development environment, please install the necessary helper package. See the [Polars API notes](https://docs.pola.rs/api/python/stable/reference/api/polars.read_excel.html).\n",
        "\n",
        "When you execute the code block, click browse, and upload the `flights.xlsx` file in the data directory that you downloaded earlier in the class."
      ]
    },
    {
      "cell_type": "code",
      "execution_count": null,
      "metadata": {
        "id": "qKHwJPIQaOpv"
      },
      "outputs": [],
      "source": [
        "#!pip install fastexcel\n",
        "from google.colab import files\n",
        "files.upload()\n",
        "excel_flights = pl.read_excel(\"flights.xlsx\") #basic example\n",
        "excel_flights"
      ]
    },
    {
      "cell_type": "markdown",
      "metadata": {
        "id": "V90spdRZ1urn"
      },
      "source": [
        "### Saving data\n",
        "\n",
        "In general most of the functions for loading data have a corresponding function for writing data as well. Please see the [Polars API](https://docs.pola.rs/api/python/stable/reference/io.html) for further details."
      ]
    },
    {
      "cell_type": "code",
      "execution_count": null,
      "metadata": {
        "id": "WwmFuVxm12KM"
      },
      "outputs": [],
      "source": [
        "df.write_csv(\"flights.csv\") #basic example"
      ]
    },
    {
      "cell_type": "markdown",
      "metadata": {
        "id": "Kq1jZWWAF3Fh"
      },
      "source": [
        "### Missing data in polars\n",
        "\n",
        "Polars represents missing values using `null` exclusively across data types. When you are loading data, remember that it's important to ensure that other encodings for missing data are converted so that they are correctly represented as missing (and not as strings (\"NA\"), negative numbers (-99), or some other encoding). Note: If you are building Series or DataFrames by hand (like we did in the first part of the workshops, you can use the keyword `None` to indicate missing data.)"
      ]
    },
    {
      "cell_type": "markdown",
      "metadata": {
        "id": "ZpKlQy6oFThP"
      },
      "source": [
        "# Common data manipulation processes"
      ]
    },
    {
      "cell_type": "markdown",
      "metadata": {
        "id": "3BdNQONCoXLH"
      },
      "source": [
        "One of Polars great strengths as a data manipulation library is its simple, expressive syntax that allows you to construct complex expressions by combining a simple elements. We will discuss Polars expressions shortly, but let's try some hands-on data data wrangling first."
      ]
    },
    {
      "cell_type": "markdown",
      "metadata": {
        "id": "6W25fZhVF-Cq"
      },
      "source": [
        "### 5 common \"verbs\" for data wrangling in Polars\n",
        "\n",
        "Inspired by a common way of sharing the common commands for data wrangling in the R data analysis langauge, I present five common methods for data wrangling using Polars.\n"
      ]
    },
    {
      "cell_type": "markdown",
      "metadata": {
        "id": "psyxgxfxfKN6"
      },
      "source": [
        "#### 1. select()\n",
        "\n",
        "The `select` command is the primary method for choosing columns (or variables) that you wish to include in a dataframe. Using our `flights` DataFrame, let's look at a few examples."
      ]
    },
    {
      "cell_type": "code",
      "execution_count": null,
      "metadata": {
        "id": "jmf53pa5iEkM"
      },
      "outputs": [],
      "source": [
        "# First, let's remind ourselves of the columns that are available.\n",
        "# I can do this several ways. Try: `flights.columns` for example.\n",
        "# Let's look at the entire DataFrame\n",
        "flights"
      ]
    },
    {
      "cell_type": "markdown",
      "metadata": {
        "id": "GoMM-MGnnYmN"
      },
      "source": [
        "If I want to see the names of the flights, I can select the `flight` column using the `pl.col` function which tells polars which columns that we wish to select. We will use `pl.col` to select columns in all of these examples."
      ]
    },
    {
      "cell_type": "code",
      "execution_count": 6,
      "metadata": {
        "id": "Tbm2Ejonni78"
      },
      "outputs": [
        {
          "data": {
            "text/html": [
              "<div><style>\n",
              ".dataframe > thead > tr,\n",
              ".dataframe > tbody > tr {\n",
              "  text-align: right;\n",
              "  white-space: pre-wrap;\n",
              "}\n",
              "</style>\n",
              "<small>shape: (6, 1)</small><table border=\"1\" class=\"dataframe\"><thead><tr><th>flight</th></tr><tr><td>str</td></tr></thead><tbody><tr><td>&quot;Raleigh Durham to Svalbard&quot;</td></tr><tr><td>&quot;Raleigh Durham to London&quot;</td></tr><tr><td>&quot;Raleigh Durham to Los Angeles&quot;</td></tr><tr><td>&quot;Raleigh Durham to Boston&quot;</td></tr><tr><td>&quot;Raleigh Durham to Chicago&quot;</td></tr><tr><td>&quot;Raleigh Durham to New York&quot;</td></tr></tbody></table></div>"
            ],
            "text/plain": [
              "shape: (6, 1)\n",
              "┌───────────────────────────────┐\n",
              "│ flight                        │\n",
              "│ ---                           │\n",
              "│ str                           │\n",
              "╞═══════════════════════════════╡\n",
              "│ Raleigh Durham to Svalbard    │\n",
              "│ Raleigh Durham to London      │\n",
              "│ Raleigh Durham to Los Angeles │\n",
              "│ Raleigh Durham to Boston      │\n",
              "│ Raleigh Durham to Chicago     │\n",
              "│ Raleigh Durham to New York    │\n",
              "└───────────────────────────────┘"
            ]
          },
          "execution_count": null,
          "metadata": {},
          "output_type": "execute_result"
        }
      ],
      "source": [
        "flights.select(pl.col('flight'))"
      ]
    },
    {
      "cell_type": "markdown",
      "metadata": {
        "id": "Oru6baWRkSDW"
      },
      "source": [
        "If I wanted to see the `flight` and the `distance_km` columns only, I can select those to appear."
      ]
    },
    {
      "cell_type": "code",
      "execution_count": 7,
      "metadata": {
        "id": "Nw_eVA7IiwjA"
      },
      "outputs": [
        {
          "data": {
            "text/html": [
              "<div><style>\n",
              ".dataframe > thead > tr,\n",
              ".dataframe > tbody > tr {\n",
              "  text-align: right;\n",
              "  white-space: pre-wrap;\n",
              "}\n",
              "</style>\n",
              "<small>shape: (6, 2)</small><table border=\"1\" class=\"dataframe\"><thead><tr><th>flight</th><th>distance_km</th></tr><tr><td>str</td><td>i64</td></tr></thead><tbody><tr><td>&quot;Raleigh Durham to Svalbard&quot;</td><td>6209</td></tr><tr><td>&quot;Raleigh Durham to London&quot;</td><td>6216</td></tr><tr><td>&quot;Raleigh Durham to Los Angeles&quot;</td><td>3595</td></tr><tr><td>&quot;Raleigh Durham to Boston&quot;</td><td>985</td></tr><tr><td>&quot;Raleigh Durham to Chicago&quot;</td><td>1040</td></tr><tr><td>&quot;Raleigh Durham to New York&quot;</td><td>693</td></tr></tbody></table></div>"
            ],
            "text/plain": [
              "shape: (6, 2)\n",
              "┌───────────────────────────────┬─────────────┐\n",
              "│ flight                        ┆ distance_km │\n",
              "│ ---                           ┆ ---         │\n",
              "│ str                           ┆ i64         │\n",
              "╞═══════════════════════════════╪═════════════╡\n",
              "│ Raleigh Durham to Svalbard    ┆ 6209        │\n",
              "│ Raleigh Durham to London      ┆ 6216        │\n",
              "│ Raleigh Durham to Los Angeles ┆ 3595        │\n",
              "│ Raleigh Durham to Boston      ┆ 985         │\n",
              "│ Raleigh Durham to Chicago     ┆ 1040        │\n",
              "│ Raleigh Durham to New York    ┆ 693         │\n",
              "└───────────────────────────────┴─────────────┘"
            ]
          },
          "execution_count": null,
          "metadata": {},
          "output_type": "execute_result"
        }
      ],
      "source": [
        "flights.select(pl.col('flight','distance_km'))"
      ]
    },
    {
      "cell_type": "markdown",
      "metadata": {
        "id": "-3l4nRthklTo"
      },
      "source": [
        "You are welcome to select as many columns as you wish, but when you have a lot of columns and you want almost all of them, polars offers the `drop()` method to remove columns that you wish to omit. Let's drop the airport abbreviations in the `origin` and `destination` columns. Typing one variable is a lot faster than typing three!"
      ]
    },
    {
      "cell_type": "code",
      "execution_count": 8,
      "metadata": {
        "id": "m7uK_pEmkP0y"
      },
      "outputs": [
        {
          "data": {
            "text/html": [
              "<div><style>\n",
              ".dataframe > thead > tr,\n",
              ".dataframe > tbody > tr {\n",
              "  text-align: right;\n",
              "  white-space: pre-wrap;\n",
              "}\n",
              "</style>\n",
              "<small>shape: (6, 3)</small><table border=\"1\" class=\"dataframe\"><thead><tr><th>flight</th><th>distance_km</th><th>non_stop</th></tr><tr><td>str</td><td>i64</td><td>bool</td></tr></thead><tbody><tr><td>&quot;Raleigh Durham to Svalbard&quot;</td><td>6209</td><td>false</td></tr><tr><td>&quot;Raleigh Durham to London&quot;</td><td>6216</td><td>true</td></tr><tr><td>&quot;Raleigh Durham to Los Angeles&quot;</td><td>3595</td><td>true</td></tr><tr><td>&quot;Raleigh Durham to Boston&quot;</td><td>985</td><td>true</td></tr><tr><td>&quot;Raleigh Durham to Chicago&quot;</td><td>1040</td><td>false</td></tr><tr><td>&quot;Raleigh Durham to New York&quot;</td><td>693</td><td>true</td></tr></tbody></table></div>"
            ],
            "text/plain": [
              "shape: (6, 3)\n",
              "┌───────────────────────────────┬─────────────┬──────────┐\n",
              "│ flight                        ┆ distance_km ┆ non_stop │\n",
              "│ ---                           ┆ ---         ┆ ---      │\n",
              "│ str                           ┆ i64         ┆ bool     │\n",
              "╞═══════════════════════════════╪═════════════╪══════════╡\n",
              "│ Raleigh Durham to Svalbard    ┆ 6209        ┆ false    │\n",
              "│ Raleigh Durham to London      ┆ 6216        ┆ true     │\n",
              "│ Raleigh Durham to Los Angeles ┆ 3595        ┆ true     │\n",
              "│ Raleigh Durham to Boston      ┆ 985         ┆ true     │\n",
              "│ Raleigh Durham to Chicago     ┆ 1040        ┆ false    │\n",
              "│ Raleigh Durham to New York    ┆ 693         ┆ true     │\n",
              "└───────────────────────────────┴─────────────┴──────────┘"
            ]
          },
          "execution_count": null,
          "metadata": {},
          "output_type": "execute_result"
        }
      ],
      "source": [
        "flights\n",
        "flights.drop(pl.col('cost')) # note that I am not saving this change into a new DataFrame"
      ]
    },
    {
      "cell_type": "markdown",
      "metadata": {
        "id": "OX59OIWjlXKT"
      },
      "source": [
        "`select()` is a powerful tool. By reducing the number of columns in your dataframe, you increase the efficiency of your analysis (and increase the speed).\n",
        "  \n",
        "Note: Polars offers some additional options for selecting columns.\n",
        "\n",
        "- It is possible to use regular expressions to define a selection `flights.select(pl.col('^c.*$'))` # columns starting with \"c\"\n",
        "- It is possible to select by data type `flights.select(df.select(pl.col(pl.Int64))`\n",
        "- It is possible to use slice notation and avoid select entirely (but this is not preferred syntax) `flights[:]`"
      ]
    },
    {
      "cell_type": "markdown",
      "metadata": {
        "id": "9EgWScAti2Zp"
      },
      "source": [
        "#### 2. filter()\n",
        "The `filter` command is the primary method for selecting rows based on certain criteria that you wish to include in a dataframe.\n",
        "\n",
        "Polars filters rows using a column (or vector) of true/false values to determine which rows to keep and which rows to drop (technically this is called \"boolean mask filtering\").\n",
        "\n",
        "Using our flights DataFrame, let's look at a few examples.\n",
        "\n",
        "Let's say that we wanted only the flights from RDU that were of a distance less than 1000 kilometers. We could reduce our DataFrame to these flights with the following code."
      ]
    },
    {
      "cell_type": "code",
      "execution_count": null,
      "metadata": {
        "id": "c-Zu4JmBkljd"
      },
      "outputs": [],
      "source": [
        "flights.filter(pl.col('distance_km') < 1000)"
      ]
    },
    {
      "cell_type": "markdown",
      "metadata": {
        "id": "YJMMMvMR7P6C"
      },
      "source": [
        "So, our Boston and New York flights are both under 1000 kilometers from Durham.  \n",
        "\n",
        "Let's make this a bit more complex, by adding more criteria to the filter.\n",
        "\n",
        "Polars allows complex filter queries by combining multiple conditions using boolean expressions. For most operations, you will use the following operators to build these expressions.\n",
        "\n",
        "|Operator | Symbol |\n",
        "|----------|:----------:|\n",
        "| AND   | &   |\n",
        "| OR    | \\|   |\n",
        "| NOT   | ~    |\n",
        "\n",
        "\n",
        "\n",
        "Polars tends to require explicit (with a few shortcuts- see below) conditions- so expect to type in each condition. Also, Polars wants you to enclose each condition in parentheses. It's really helpful to use a development environment that provides visual cues (usually colored parentheses) or code tips to ensure you've closed the relevant parenthesis.\n",
        "\n",
        "\n",
        "Let's say that we want to see all the flights that are:\n",
        "\n",
        "1. less than 6000 kilometers from Durham\n",
        "2. less than $500"
      ]
    },
    {
      "cell_type": "code",
      "execution_count": null,
      "metadata": {
        "id": "zAvI20Sl9D7t"
      },
      "outputs": [],
      "source": [
        "flights.filter(\n",
        "    (pl.col('distance_km')<6000) &\n",
        "    (pl.col('cost')< 500.00)\n",
        ")"
      ]
    },
    {
      "cell_type": "markdown",
      "metadata": {
        "id": "0gevqgJR_7qa"
      },
      "source": [
        "When a column contains a boolean data type (`true` or `false`), you can simply add it into the set of conditions (if the item is `true`, include that row). For example:  \n",
        "\n",
        "Which flights in our dataset are non-stop from Raleigh Durham?  I know that I have non-stop column that has boolean values (they are `true` or `false` depending on whether the flight is non-stop).?"
      ]
    },
    {
      "cell_type": "code",
      "execution_count": null,
      "metadata": {
        "id": "w17NkYgEAdWv"
      },
      "outputs": [],
      "source": [
        "flights.filter(pl.col('non_stop'))"
      ]
    },
    {
      "cell_type": "markdown",
      "metadata": {
        "id": "p34yABILAqu2"
      },
      "source": [
        "Since the column is already contains boolean values, simply listing the column as a filter condition selects the rows where that condition evaluates to `True`.  \n",
        "\n",
        "\n",
        "**BONUS**: What if you wanted to see the flights with multiple stops?    \n",
        "\n",
        "\n",
        "Not a problem!\n",
        "\n",
        "Just use `NOT` boolean operator `~` like so:"
      ]
    },
    {
      "cell_type": "code",
      "execution_count": null,
      "metadata": {
        "id": "GFxe3nUgCEEV"
      },
      "outputs": [],
      "source": [
        "flights.filter(~pl.col('non_stop'))"
      ]
    },
    {
      "cell_type": "markdown",
      "metadata": {
        "id": "Qk9T0bOICOXp"
      },
      "source": [
        "#### 3. sort()\n",
        "\n",
        "In the previous exercises, `select` and `filter` have helped to reduce our Dataframe to relevant columns and rows.\n",
        "\n",
        "The `sort` method builds on these commands by allowing us to specify how the columns should be arranged for presentation.\n",
        "\n",
        "Let's try a simple sort based on our filtered data considering non-stop flights in the dataset.\n",
        "\n"
      ]
    },
    {
      "cell_type": "code",
      "execution_count": null,
      "metadata": {
        "id": "ZaCKo4-JE5M8"
      },
      "outputs": [],
      "source": [
        "flights.filter(pl.col('non_stop')).sort(pl.col('distance_km'))"
      ]
    },
    {
      "cell_type": "markdown",
      "metadata": {
        "id": "-AJzNG4eWao8"
      },
      "source": [
        "In the above, note how `sort` defaults to ascending order. If you want to sort in descending order:"
      ]
    },
    {
      "cell_type": "code",
      "execution_count": null,
      "metadata": {
        "id": "0bNEpD276hYs"
      },
      "outputs": [],
      "source": [
        "flights.filter(pl.col('non_stop')).sort(pl.col('distance_km'), descending=True)"
      ]
    },
    {
      "cell_type": "markdown",
      "metadata": {
        "id": "YC2PfDTv6hx9"
      },
      "source": [
        "It is entirely possible to specify more than one column for a sort. Let's look at our non-stop flights that have multiple stops and sort by the cost and the distance_km."
      ]
    },
    {
      "cell_type": "code",
      "execution_count": null,
      "metadata": {
        "id": "gOZQVdaWJfJp"
      },
      "outputs": [
        {
          "data": {
            "text/html": [
              "<div><style>\n",
              ".dataframe > thead > tr,\n",
              ".dataframe > tbody > tr {\n",
              "  text-align: right;\n",
              "  white-space: pre-wrap;\n",
              "}\n",
              "</style>\n",
              "<small>shape: (4, 4)</small><table border=\"1\" class=\"dataframe\"><thead><tr><th>flight</th><th>cost</th><th>distance_km</th><th>non_stop</th></tr><tr><td>str</td><td>f64</td><td>i64</td><td>bool</td></tr></thead><tbody><tr><td>&quot;Raleigh Durham to Boston&quot;</td><td>250.0</td><td>985</td><td>true</td></tr><tr><td>&quot;Raleigh Durham to New York&quot;</td><td>420.0</td><td>693</td><td>true</td></tr><tr><td>&quot;Raleigh Durham to Los Angeles&quot;</td><td>600.0</td><td>3595</td><td>true</td></tr><tr><td>&quot;Raleigh Durham to London&quot;</td><td>1200.0</td><td>6216</td><td>true</td></tr></tbody></table></div>"
            ],
            "text/plain": [
              "shape: (4, 4)\n",
              "┌───────────────────────────────┬────────┬─────────────┬──────────┐\n",
              "│ flight                        ┆ cost   ┆ distance_km ┆ non_stop │\n",
              "│ ---                           ┆ ---    ┆ ---         ┆ ---      │\n",
              "│ str                           ┆ f64    ┆ i64         ┆ bool     │\n",
              "╞═══════════════════════════════╪════════╪═════════════╪══════════╡\n",
              "│ Raleigh Durham to Boston      ┆ 250.0  ┆ 985         ┆ true     │\n",
              "│ Raleigh Durham to New York    ┆ 420.0  ┆ 693         ┆ true     │\n",
              "│ Raleigh Durham to Los Angeles ┆ 600.0  ┆ 3595        ┆ true     │\n",
              "│ Raleigh Durham to London      ┆ 1200.0 ┆ 6216        ┆ true     │\n",
              "└───────────────────────────────┴────────┴─────────────┴──────────┘"
            ]
          },
          "execution_count": null,
          "metadata": {},
          "output_type": "execute_result"
        }
      ],
      "source": [
        "(\n",
        "flights\n",
        "    .filter(pl.col('non_stop'))\n",
        "    .sort(\n",
        "        [\n",
        "            pl.col('cost'),\n",
        "            pl.col('distance_km')\n",
        "        ]          \n",
        "    )\n",
        ")"
      ]
    },
    {
      "cell_type": "markdown",
      "metadata": {
        "id": "6UrX2FlYWtSN"
      },
      "source": [
        "*Optional*: Is it possible to sort some columns ascending with others descending? Yes, just assign bracketed list of booleans (`True` or `False`) to each of the sort columns."
      ]
    },
    {
      "cell_type": "code",
      "execution_count": 5,
      "metadata": {
        "id": "lX6_N3p_W4Hl"
      },
      "outputs": [
        {
          "data": {
            "text/html": [
              "<div><style>\n",
              ".dataframe > thead > tr,\n",
              ".dataframe > tbody > tr {\n",
              "  text-align: right;\n",
              "  white-space: pre-wrap;\n",
              "}\n",
              "</style>\n",
              "<small>shape: (4, 4)</small><table border=\"1\" class=\"dataframe\"><thead><tr><th>flight</th><th>cost</th><th>distance_km</th><th>non_stop</th></tr><tr><td>str</td><td>f64</td><td>i64</td><td>bool</td></tr></thead><tbody><tr><td>&quot;Raleigh Durham to London&quot;</td><td>1200.0</td><td>6216</td><td>true</td></tr><tr><td>&quot;Raleigh Durham to Los Angeles&quot;</td><td>600.0</td><td>3595</td><td>true</td></tr><tr><td>&quot;Raleigh Durham to New York&quot;</td><td>420.0</td><td>693</td><td>true</td></tr><tr><td>&quot;Raleigh Durham to Boston&quot;</td><td>250.0</td><td>985</td><td>true</td></tr></tbody></table></div>"
            ],
            "text/plain": [
              "shape: (4, 4)\n",
              "┌───────────────────────────────┬────────┬─────────────┬──────────┐\n",
              "│ flight                        ┆ cost   ┆ distance_km ┆ non_stop │\n",
              "│ ---                           ┆ ---    ┆ ---         ┆ ---      │\n",
              "│ str                           ┆ f64    ┆ i64         ┆ bool     │\n",
              "╞═══════════════════════════════╪════════╪═════════════╪══════════╡\n",
              "│ Raleigh Durham to London      ┆ 1200.0 ┆ 6216        ┆ true     │\n",
              "│ Raleigh Durham to Los Angeles ┆ 600.0  ┆ 3595        ┆ true     │\n",
              "│ Raleigh Durham to New York    ┆ 420.0  ┆ 693         ┆ true     │\n",
              "│ Raleigh Durham to Boston      ┆ 250.0  ┆ 985         ┆ true     │\n",
              "└───────────────────────────────┴────────┴─────────────┴──────────┘"
            ]
          },
          "execution_count": null,
          "metadata": {},
          "output_type": "execute_result"
        }
      ],
      "source": [
        "(\n",
        "flights\n",
        "    .filter(pl.col('non_stop'))\n",
        "    .sort(\n",
        "        [\n",
        "            pl.col('cost'),\n",
        "            pl.col('distance_km')\n",
        "        ],\n",
        "        descending=[True, False]\n",
        "    )\n",
        ")"
      ]
    },
    {
      "cell_type": "markdown",
      "metadata": {
        "id": "xuN-i2McFKS3"
      },
      "source": [
        "Note how our data are now sorted by the distance in kilometers in ascending order. Often, we will want to see the results in descending order (top 5 lists are very popular in data work!). It is easy to specify the `descending` parameter in the `sort` method as `True` to do this."
      ]
    },
    {
      "cell_type": "markdown",
      "metadata": {
        "id": "HXCgKWjwVvxd"
      },
      "source": [
        "One last thing to not about sorting DataFrames.  If you have missing data in a sort column, it will be listed first (it doesn't matter if you are sorting ascending or descending). If you would prefer to have the `null` values appear at the end of the sort, add the `nulls_last=True` parameter.\n",
        "\n",
        "Nulls first:"
      ]
    },
    {
      "cell_type": "code",
      "execution_count": null,
      "metadata": {
        "id": "zrIopkiFZXwi"
      },
      "outputs": [],
      "source": [
        "flights.sort(pl.col('cost'), descending=True)"
      ]
    },
    {
      "cell_type": "markdown",
      "metadata": {
        "id": "_kvqBty7aKXL"
      },
      "source": [
        "Nulls last:"
      ]
    },
    {
      "cell_type": "code",
      "execution_count": null,
      "metadata": {
        "id": "Ss1u4f-AaJrY"
      },
      "outputs": [],
      "source": [
        "flights.sort(pl.col('cost'), descending=True, nulls_last=True)"
      ]
    },
    {
      "cell_type": "markdown",
      "metadata": {
        "id": "fBTtPhNlJXu5"
      },
      "source": [
        "It is entirely possible to specify more than one column for a `sort`. Let's look at our flights that have multiple stops (non-stop = False) and sort by the `cost` and the `distance_km`."
      ]
    },
    {
      "cell_type": "markdown",
      "metadata": {
        "id": "UHCUPXDsWQDR"
      },
      "source": [
        "#### 4. with_columns()\n",
        "\n",
        "We often want to build on the data that we have in our dataset by adding addtional variables to our datasets. The `with_columns()` method provides a convenient way to Adding columns to DataFrames.  Let's calculate the cost per kilometer for each of flights and try to determine which is the best bargain.\n",
        "\n"
      ]
    },
    {
      "cell_type": "code",
      "execution_count": 6,
      "metadata": {
        "id": "ucyeKTrxd7ot"
      },
      "outputs": [
        {
          "data": {
            "text/html": [
              "<div><style>\n",
              ".dataframe > thead > tr,\n",
              ".dataframe > tbody > tr {\n",
              "  text-align: right;\n",
              "  white-space: pre-wrap;\n",
              "}\n",
              "</style>\n",
              "<small>shape: (6, 5)</small><table border=\"1\" class=\"dataframe\"><thead><tr><th>flight</th><th>cost</th><th>distance_km</th><th>non_stop</th><th>cost_per_kilometer</th></tr><tr><td>str</td><td>f64</td><td>i64</td><td>bool</td><td>f64</td></tr></thead><tbody><tr><td>&quot;Raleigh Durham to Svalbard&quot;</td><td>null</td><td>6209</td><td>false</td><td>null</td></tr><tr><td>&quot;Raleigh Durham to London&quot;</td><td>1200.0</td><td>6216</td><td>true</td><td>0.19305</td></tr><tr><td>&quot;Raleigh Durham to Los Angeles&quot;</td><td>600.0</td><td>3595</td><td>true</td><td>0.166898</td></tr><tr><td>&quot;Raleigh Durham to Boston&quot;</td><td>250.0</td><td>985</td><td>true</td><td>0.253807</td></tr><tr><td>&quot;Raleigh Durham to Chicago&quot;</td><td>300.0</td><td>1040</td><td>false</td><td>0.288462</td></tr><tr><td>&quot;Raleigh Durham to New York&quot;</td><td>420.0</td><td>693</td><td>true</td><td>0.606061</td></tr></tbody></table></div>"
            ],
            "text/plain": [
              "shape: (6, 5)\n",
              "┌───────────────────┬────────┬─────────────┬──────────┬───────────────────┐\n",
              "│ flight            ┆ cost   ┆ distance_km ┆ non_stop ┆ cost_per_kilomete │\n",
              "│ ---               ┆ ---    ┆ ---         ┆ ---      ┆ r                 │\n",
              "│ str               ┆ f64    ┆ i64         ┆ bool     ┆ ---               │\n",
              "│                   ┆        ┆             ┆          ┆ f64               │\n",
              "╞═══════════════════╪════════╪═════════════╪══════════╪═══════════════════╡\n",
              "│ Raleigh Durham to ┆ null   ┆ 6209        ┆ false    ┆ null              │\n",
              "│ Svalbard          ┆        ┆             ┆          ┆                   │\n",
              "│ Raleigh Durham to ┆ 1200.0 ┆ 6216        ┆ true     ┆ 0.19305           │\n",
              "│ London            ┆        ┆             ┆          ┆                   │\n",
              "│ Raleigh Durham to ┆ 600.0  ┆ 3595        ┆ true     ┆ 0.166898          │\n",
              "│ Los Angeles       ┆        ┆             ┆          ┆                   │\n",
              "│ Raleigh Durham to ┆ 250.0  ┆ 985         ┆ true     ┆ 0.253807          │\n",
              "│ Boston            ┆        ┆             ┆          ┆                   │\n",
              "│ Raleigh Durham to ┆ 300.0  ┆ 1040        ┆ false    ┆ 0.288462          │\n",
              "│ Chicago           ┆        ┆             ┆          ┆                   │\n",
              "│ Raleigh Durham to ┆ 420.0  ┆ 693         ┆ true     ┆ 0.606061          │\n",
              "│ New York          ┆        ┆             ┆          ┆                   │\n",
              "└───────────────────┴────────┴─────────────┴──────────┴───────────────────┘"
            ]
          },
          "execution_count": null,
          "metadata": {},
          "output_type": "execute_result"
        }
      ],
      "source": [
        "flights.with_columns(\n",
        "   cost_per_kilometer = pl.col('cost') / pl.col('distance_km')\n",
        ")"
      ]
    },
    {
      "cell_type": "markdown",
      "metadata": {
        "id": "E7H-8B-3e-o0"
      },
      "source": [
        "The flight to Los Angeles is a slightly better deal in the cost per kilometer than the flight to London. Note that the we didn't have a cost for the flight to Svalbard (we only have a `null` value there) and we couldn't calculate the cost per kilometer for that trip.\n",
        "\n",
        "Up until now, we've been selecting, filtering, and sorting our data without making any changes in the underlying DataFrame. As we start adding new variables (or new columns) like the \"cost per kilometer\", we will likely want to save our new column. In order to do this, you must assign the result of the `.with_columns()` expression to a new (or existing) variable name like so:"
      ]
    },
    {
      "cell_type": "code",
      "execution_count": 6,
      "metadata": {
        "id": "ZEsFp7dwgr7u"
      },
      "outputs": [
        {
          "data": {
            "text/html": [
              "<div><style>\n",
              ".dataframe > thead > tr,\n",
              ".dataframe > tbody > tr {\n",
              "  text-align: right;\n",
              "  white-space: pre-wrap;\n",
              "}\n",
              "</style>\n",
              "<small>shape: (6, 5)</small><table border=\"1\" class=\"dataframe\"><thead><tr><th>flight</th><th>cost</th><th>distance_km</th><th>non_stop</th><th>cost_per_kilometer</th></tr><tr><td>str</td><td>f64</td><td>i64</td><td>bool</td><td>f64</td></tr></thead><tbody><tr><td>&quot;Raleigh Durham to Svalbard&quot;</td><td>null</td><td>6209</td><td>false</td><td>null</td></tr><tr><td>&quot;Raleigh Durham to London&quot;</td><td>1200.0</td><td>6216</td><td>true</td><td>0.19305</td></tr><tr><td>&quot;Raleigh Durham to Los Angeles&quot;</td><td>600.0</td><td>3595</td><td>true</td><td>0.166898</td></tr><tr><td>&quot;Raleigh Durham to Boston&quot;</td><td>250.0</td><td>985</td><td>true</td><td>0.253807</td></tr><tr><td>&quot;Raleigh Durham to Chicago&quot;</td><td>300.0</td><td>1040</td><td>false</td><td>0.288462</td></tr><tr><td>&quot;Raleigh Durham to New York&quot;</td><td>420.0</td><td>693</td><td>true</td><td>0.606061</td></tr></tbody></table></div>"
            ],
            "text/plain": [
              "shape: (6, 5)\n",
              "┌───────────────────────────────┬────────┬─────────────┬──────────┬────────────────────┐\n",
              "│ flight                        ┆ cost   ┆ distance_km ┆ non_stop ┆ cost_per_kilometer │\n",
              "│ ---                           ┆ ---    ┆ ---         ┆ ---      ┆ ---                │\n",
              "│ str                           ┆ f64    ┆ i64         ┆ bool     ┆ f64                │\n",
              "╞═══════════════════════════════╪════════╪═════════════╪══════════╪════════════════════╡\n",
              "│ Raleigh Durham to Svalbard    ┆ null   ┆ 6209        ┆ false    ┆ null               │\n",
              "│ Raleigh Durham to London      ┆ 1200.0 ┆ 6216        ┆ true     ┆ 0.19305            │\n",
              "│ Raleigh Durham to Los Angeles ┆ 600.0  ┆ 3595        ┆ true     ┆ 0.166898           │\n",
              "│ Raleigh Durham to Boston      ┆ 250.0  ┆ 985         ┆ true     ┆ 0.253807           │\n",
              "│ Raleigh Durham to Chicago     ┆ 300.0  ┆ 1040        ┆ false    ┆ 0.288462           │\n",
              "│ Raleigh Durham to New York    ┆ 420.0  ┆ 693         ┆ true     ┆ 0.606061           │\n",
              "└───────────────────────────────┴────────┴─────────────┴──────────┴────────────────────┘"
            ]
          },
          "execution_count": null,
          "metadata": {},
          "output_type": "execute_result"
        }
      ],
      "source": [
        "flights = flights.with_columns(\n",
        "   cost_per_kilometer = pl.col('cost') / pl.col('distance_km')\n",
        ")\n",
        "flights"
      ]
    },
    {
      "cell_type": "markdown",
      "metadata": {
        "id": "e397DQWQhezS"
      },
      "source": [
        "Another stylistic note- Polars offers two different syntax styles for creating columns.\n",
        "\n",
        "1. *keyword argument syntax*: In the example above, we name the column, apply the `=` sign and define our calculation.  \n",
        "\n",
        "2. *expression based syntax*: Polars also has an expression based syntax that assigns the name of the variable by using an `.alias()` method at the end of the expression. This may seem more intuitive if you use python a lot and enjoy method chaining. (If that doesn't make sense- stick with the keyword argument syntax!)"
      ]
    },
    {
      "cell_type": "code",
      "execution_count": 7,
      "metadata": {},
      "outputs": [
        {
          "data": {
            "text/html": [
              "<div><style>\n",
              ".dataframe > thead > tr,\n",
              ".dataframe > tbody > tr {\n",
              "  text-align: right;\n",
              "  white-space: pre-wrap;\n",
              "}\n",
              "</style>\n",
              "<small>shape: (6, 5)</small><table border=\"1\" class=\"dataframe\"><thead><tr><th>flight</th><th>cost</th><th>distance_km</th><th>non_stop</th><th>cost_per_kilometer</th></tr><tr><td>str</td><td>f64</td><td>i64</td><td>bool</td><td>f64</td></tr></thead><tbody><tr><td>&quot;Raleigh Durham to Svalbard&quot;</td><td>null</td><td>6209</td><td>false</td><td>null</td></tr><tr><td>&quot;Raleigh Durham to London&quot;</td><td>1200.0</td><td>6216</td><td>true</td><td>0.19305</td></tr><tr><td>&quot;Raleigh Durham to Los Angeles&quot;</td><td>600.0</td><td>3595</td><td>true</td><td>0.166898</td></tr><tr><td>&quot;Raleigh Durham to Boston&quot;</td><td>250.0</td><td>985</td><td>true</td><td>0.253807</td></tr><tr><td>&quot;Raleigh Durham to Chicago&quot;</td><td>300.0</td><td>1040</td><td>false</td><td>0.288462</td></tr><tr><td>&quot;Raleigh Durham to New York&quot;</td><td>420.0</td><td>693</td><td>true</td><td>0.606061</td></tr></tbody></table></div>"
            ],
            "text/plain": [
              "shape: (6, 5)\n",
              "┌───────────────────────────────┬────────┬─────────────┬──────────┬────────────────────┐\n",
              "│ flight                        ┆ cost   ┆ distance_km ┆ non_stop ┆ cost_per_kilometer │\n",
              "│ ---                           ┆ ---    ┆ ---         ┆ ---      ┆ ---                │\n",
              "│ str                           ┆ f64    ┆ i64         ┆ bool     ┆ f64                │\n",
              "╞═══════════════════════════════╪════════╪═════════════╪══════════╪════════════════════╡\n",
              "│ Raleigh Durham to Svalbard    ┆ null   ┆ 6209        ┆ false    ┆ null               │\n",
              "│ Raleigh Durham to London      ┆ 1200.0 ┆ 6216        ┆ true     ┆ 0.19305            │\n",
              "│ Raleigh Durham to Los Angeles ┆ 600.0  ┆ 3595        ┆ true     ┆ 0.166898           │\n",
              "│ Raleigh Durham to Boston      ┆ 250.0  ┆ 985         ┆ true     ┆ 0.253807           │\n",
              "│ Raleigh Durham to Chicago     ┆ 300.0  ┆ 1040        ┆ false    ┆ 0.288462           │\n",
              "│ Raleigh Durham to New York    ┆ 420.0  ┆ 693         ┆ true     ┆ 0.606061           │\n",
              "└───────────────────────────────┴────────┴─────────────┴──────────┴────────────────────┘"
            ]
          },
          "execution_count": null,
          "metadata": {},
          "output_type": "execute_result"
        }
      ],
      "source": [
        "flights = flights.with_columns(\n",
        "   (pl.col('cost') / pl.col('distance_km'))\n",
        "   .alias('cost_per_kilometer')\n",
        ")\n",
        "flights"
      ]
    },
    {
      "cell_type": "markdown",
      "metadata": {
        "id": "-_1MSDwfbYgC"
      },
      "source": [
        "#### 5. group_by()\n",
        "\n",
        "\n",
        "Sometimes you want to aggregate your data to understand patterns by groups. The `group_by()` verb (method) provides a convenient way to collapse the dataframe into groups defined by one or more variables and then generate statistics based on these groupings. Note that `group_by()` on it's own only splits the data into groups (see code below) without producing results, we have to add some more code to run calculations on the groups.\n"
      ]
    },
    {
      "cell_type": "code",
      "execution_count": 8,
      "metadata": {
        "id": "B62JizyqZKwO"
      },
      "outputs": [
        {
          "data": {
            "text/plain": [
              "<polars.dataframe.group_by.GroupBy at 0x16a293410>"
            ]
          },
          "execution_count": null,
          "metadata": {},
          "output_type": "execute_result"
        }
      ],
      "source": [
        "flights.group_by(pl.col('non-stop')) # this creates groups... but no output!"
      ]
    },
    {
      "cell_type": "markdown",
      "metadata": {},
      "source": [
        "Often it is helpful to get a count of the number of items present in each group. Using the `group_by()` method in combination with with the the length `len()` polars will handle this efficiently."
      ]
    },
    {
      "cell_type": "code",
      "execution_count": 9,
      "metadata": {},
      "outputs": [
        {
          "data": {
            "text/html": [
              "<div><style>\n",
              ".dataframe > thead > tr,\n",
              ".dataframe > tbody > tr {\n",
              "  text-align: right;\n",
              "  white-space: pre-wrap;\n",
              "}\n",
              "</style>\n",
              "<small>shape: (2, 2)</small><table border=\"1\" class=\"dataframe\"><thead><tr><th>non_stop</th><th>len</th></tr><tr><td>bool</td><td>u32</td></tr></thead><tbody><tr><td>true</td><td>4</td></tr><tr><td>false</td><td>2</td></tr></tbody></table></div>"
            ],
            "text/plain": [
              "shape: (2, 2)\n",
              "┌──────────┬─────┐\n",
              "│ non_stop ┆ len │\n",
              "│ ---      ┆ --- │\n",
              "│ bool     ┆ u32 │\n",
              "╞══════════╪═════╡\n",
              "│ true     ┆ 4   │\n",
              "│ false    ┆ 2   │\n",
              "└──────────┴─────┘"
            ]
          },
          "execution_count": null,
          "metadata": {},
          "output_type": "execute_result"
        }
      ],
      "source": [
        "flights.group_by(pl.col('non_stop')).len()"
      ]
    },
    {
      "cell_type": "markdown",
      "metadata": {
        "id": "aEuNYW_BZFqD"
      },
      "source": [
        "For now, we will start with a very simple example using our small flights dataset that considers the average distance of non-stop flights versus flights with layovers. The code after `.agg()` calculates the mean of the distance in kilometers and renames the calculated variable `average_distance_km`."
      ]
    },
    {
      "cell_type": "code",
      "execution_count": 10,
      "metadata": {
        "id": "zLLgbjd1pyhb"
      },
      "outputs": [
        {
          "data": {
            "text/html": [
              "<div><style>\n",
              ".dataframe > thead > tr,\n",
              ".dataframe > tbody > tr {\n",
              "  text-align: right;\n",
              "  white-space: pre-wrap;\n",
              "}\n",
              "</style>\n",
              "<small>shape: (2, 2)</small><table border=\"1\" class=\"dataframe\"><thead><tr><th>non_stop</th><th>average_distance_km</th></tr><tr><td>bool</td><td>f64</td></tr></thead><tbody><tr><td>false</td><td>3624.5</td></tr><tr><td>true</td><td>2872.25</td></tr></tbody></table></div>"
            ],
            "text/plain": [
              "shape: (2, 2)\n",
              "┌──────────┬─────────────────────┐\n",
              "│ non_stop ┆ average_distance_km │\n",
              "│ ---      ┆ ---                 │\n",
              "│ bool     ┆ f64                 │\n",
              "╞══════════╪═════════════════════╡\n",
              "│ false    ┆ 3624.5              │\n",
              "│ true     ┆ 2872.25             │\n",
              "└──────────┴─────────────────────┘"
            ]
          },
          "execution_count": null,
          "metadata": {},
          "output_type": "execute_result"
        }
      ],
      "source": [
        "(\n",
        "flights\n",
        "    .group_by(pl.col('non_stop'))\n",
        "    .agg(pl.col('distance_km')\n",
        "    .mean()\n",
        "    .alias('average_distance_km'))\n",
        ")"
      ]
    },
    {
      "cell_type": "markdown",
      "metadata": {
        "id": "nIPXSoU-10Wq"
      },
      "source": [
        "#### 6. over()\n",
        "\n",
        "I know. I said I was only going to show you five common \"verbs\" in Polars...\n",
        "\n",
        " `group_by()` provides a convenient way to \"collapse\" or aggregrate the data into groups. Sometimes, you want to run a calculation on a grouped variable (or variables) while adding the result to the original dataframe. This is where the `over()` method comes in handy. Let's try the same example as above, but this time we'll use `.over` in our expression instead of `group_by()`. \n",
        " \n",
        " Let us calculate the average distance in kilometers **over** non-stop and multi-stop flights each and apply that result back to every row in the datframe.\n",
        " \n",
        " In the output that follows, you can see how average distance is calculated for each group in the non-stop variable (`true` and `false`) and then added to the Dataframe as a new column. We use polars (expression based syntax) `.alias` method to provide a name for the newly calculated column."
      ]
    },
    {
      "cell_type": "code",
      "execution_count": 11,
      "metadata": {
        "id": "2KqBmFkB6y_3"
      },
      "outputs": [
        {
          "data": {
            "text/html": [
              "<div><style>\n",
              ".dataframe > thead > tr,\n",
              ".dataframe > tbody > tr {\n",
              "  text-align: right;\n",
              "  white-space: pre-wrap;\n",
              "}\n",
              "</style>\n",
              "<small>shape: (6, 6)</small><table border=\"1\" class=\"dataframe\"><thead><tr><th>flight</th><th>cost</th><th>distance_km</th><th>non_stop</th><th>cost_per_kilometer</th><th>average_distance_km</th></tr><tr><td>str</td><td>f64</td><td>i64</td><td>bool</td><td>f64</td><td>f64</td></tr></thead><tbody><tr><td>&quot;Raleigh Durham to Svalbard&quot;</td><td>null</td><td>6209</td><td>false</td><td>null</td><td>3624.5</td></tr><tr><td>&quot;Raleigh Durham to London&quot;</td><td>1200.0</td><td>6216</td><td>true</td><td>0.19305</td><td>2872.25</td></tr><tr><td>&quot;Raleigh Durham to Los Angeles&quot;</td><td>600.0</td><td>3595</td><td>true</td><td>0.166898</td><td>2872.25</td></tr><tr><td>&quot;Raleigh Durham to Boston&quot;</td><td>250.0</td><td>985</td><td>true</td><td>0.253807</td><td>2872.25</td></tr><tr><td>&quot;Raleigh Durham to Chicago&quot;</td><td>300.0</td><td>1040</td><td>false</td><td>0.288462</td><td>3624.5</td></tr><tr><td>&quot;Raleigh Durham to New York&quot;</td><td>420.0</td><td>693</td><td>true</td><td>0.606061</td><td>2872.25</td></tr></tbody></table></div>"
            ],
            "text/plain": [
              "shape: (6, 6)\n",
              "┌─────────────────────┬────────┬─────────────┬──────────┬────────────────────┬─────────────────────┐\n",
              "│ flight              ┆ cost   ┆ distance_km ┆ non_stop ┆ cost_per_kilometer ┆ average_distance_km │\n",
              "│ ---                 ┆ ---    ┆ ---         ┆ ---      ┆ ---                ┆ ---                 │\n",
              "│ str                 ┆ f64    ┆ i64         ┆ bool     ┆ f64                ┆ f64                 │\n",
              "╞═════════════════════╪════════╪═════════════╪══════════╪════════════════════╪═════════════════════╡\n",
              "│ Raleigh Durham to   ┆ null   ┆ 6209        ┆ false    ┆ null               ┆ 3624.5              │\n",
              "│ Svalbard            ┆        ┆             ┆          ┆                    ┆                     │\n",
              "│ Raleigh Durham to   ┆ 1200.0 ┆ 6216        ┆ true     ┆ 0.19305            ┆ 2872.25             │\n",
              "│ London              ┆        ┆             ┆          ┆                    ┆                     │\n",
              "│ Raleigh Durham to   ┆ 600.0  ┆ 3595        ┆ true     ┆ 0.166898           ┆ 2872.25             │\n",
              "│ Los Angeles         ┆        ┆             ┆          ┆                    ┆                     │\n",
              "│ Raleigh Durham to   ┆ 250.0  ┆ 985         ┆ true     ┆ 0.253807           ┆ 2872.25             │\n",
              "│ Boston              ┆        ┆             ┆          ┆                    ┆                     │\n",
              "│ Raleigh Durham to   ┆ 300.0  ┆ 1040        ┆ false    ┆ 0.288462           ┆ 3624.5              │\n",
              "│ Chicago             ┆        ┆             ┆          ┆                    ┆                     │\n",
              "│ Raleigh Durham to   ┆ 420.0  ┆ 693         ┆ true     ┆ 0.606061           ┆ 2872.25             │\n",
              "│ New York            ┆        ┆             ┆          ┆                    ┆                     │\n",
              "└─────────────────────┴────────┴─────────────┴──────────┴────────────────────┴─────────────────────┘"
            ]
          },
          "execution_count": null,
          "metadata": {},
          "output_type": "execute_result"
        }
      ],
      "source": [
        "(\n",
        "flights\n",
        "    .with_columns(pl.col('distance_km')\n",
        "        .mean()\n",
        "        .over(pl.col('non_stop'))\n",
        "        .alias('average_distance_km')\n",
        "    )\n",
        ")"
      ]
    },
    {
      "cell_type": "markdown",
      "metadata": {
        "id": "nV93E_Zebhml"
      },
      "source": [
        "### Expressions\n",
        "\n",
        "Let us focus on a core feature of polars: **expressions**. We've been using expressions already in our small data examples without noting it. As Jannsens and Nieuwdorp (2025) describe it:\n",
        "\n",
        "> \"If you think of an expression as a recipe, then the operations would be the steps, and the functions and methods would be like the cooks.\"\n",
        "\n",
        "Jannsens and Nieuwdorp (2025) also provide a formal definition:\n",
        "\n",
        "> \"An expression is a tree of operations that describe how to constuct one or more Series.\"\n",
        "\n",
        "Let's look at an example to make this clearer. In the code below, we use the DataFrame method `with_columns` to add a column to the DataFrame. In this example, you can think of of `with_columns` as the chef and the expression that follows as the steps to make it happen. Indeed, the steps or the expression is completely reusable in a variety of contexts. Let's try it!"
      ]
    },
    {
      "cell_type": "code",
      "execution_count": 2,
      "metadata": {
        "id": "fjcaURIDHZ_p"
      },
      "outputs": [
        {
          "data": {
            "text/html": [
              "<div><style>\n",
              ".dataframe > thead > tr,\n",
              ".dataframe > tbody > tr {\n",
              "  text-align: right;\n",
              "  white-space: pre-wrap;\n",
              "}\n",
              "</style>\n",
              "<small>shape: (6, 5)</small><table border=\"1\" class=\"dataframe\"><thead><tr><th>flight</th><th>cost</th><th>distance_km</th><th>non_stop</th><th>cost_per_kilometer</th></tr><tr><td>str</td><td>f64</td><td>i64</td><td>bool</td><td>f64</td></tr></thead><tbody><tr><td>&quot;Raleigh Durham to Svalbard&quot;</td><td>null</td><td>6209</td><td>false</td><td>null</td></tr><tr><td>&quot;Raleigh Durham to London&quot;</td><td>1200.0</td><td>6216</td><td>true</td><td>0.19305</td></tr><tr><td>&quot;Raleigh Durham to Los Angeles&quot;</td><td>600.0</td><td>3595</td><td>true</td><td>0.166898</td></tr><tr><td>&quot;Raleigh Durham to Boston&quot;</td><td>250.0</td><td>985</td><td>true</td><td>0.253807</td></tr><tr><td>&quot;Raleigh Durham to Chicago&quot;</td><td>300.0</td><td>1040</td><td>false</td><td>0.288462</td></tr><tr><td>&quot;Raleigh Durham to New York&quot;</td><td>420.0</td><td>693</td><td>true</td><td>0.606061</td></tr></tbody></table></div>"
            ],
            "text/plain": [
              "shape: (6, 5)\n",
              "┌───────────────────────────────┬────────┬─────────────┬──────────┬────────────────────┐\n",
              "│ flight                        ┆ cost   ┆ distance_km ┆ non_stop ┆ cost_per_kilometer │\n",
              "│ ---                           ┆ ---    ┆ ---         ┆ ---      ┆ ---                │\n",
              "│ str                           ┆ f64    ┆ i64         ┆ bool     ┆ f64                │\n",
              "╞═══════════════════════════════╪════════╪═════════════╪══════════╪════════════════════╡\n",
              "│ Raleigh Durham to Svalbard    ┆ null   ┆ 6209        ┆ false    ┆ null               │\n",
              "│ Raleigh Durham to London      ┆ 1200.0 ┆ 6216        ┆ true     ┆ 0.19305            │\n",
              "│ Raleigh Durham to Los Angeles ┆ 600.0  ┆ 3595        ┆ true     ┆ 0.166898           │\n",
              "│ Raleigh Durham to Boston      ┆ 250.0  ┆ 985         ┆ true     ┆ 0.253807           │\n",
              "│ Raleigh Durham to Chicago     ┆ 300.0  ┆ 1040        ┆ false    ┆ 0.288462           │\n",
              "│ Raleigh Durham to New York    ┆ 420.0  ┆ 693         ┆ true     ┆ 0.606061           │\n",
              "└───────────────────────────────┴────────┴─────────────┴──────────┴────────────────────┘"
            ]
          },
          "execution_count": null,
          "metadata": {},
          "output_type": "execute_result"
        }
      ],
      "source": [
        "# run this code for reminder of how with_columns works\n",
        "# we've seen this earlier in the workshop\n",
        "flights.with_columns(\n",
        "   cost_per_kilometer = pl.col('cost') / pl.col('distance_km')\n",
        ")"
      ]
    },
    {
      "cell_type": "code",
      "execution_count": null,
      "metadata": {
        "id": "R4F_VEjlIxju"
      },
      "outputs": [],
      "source": [
        "# now, let's extract the expression into a variable\n",
        "cost_per_kilometer = pl.col('cost') / pl.col('distance_km')"
      ]
    },
    {
      "cell_type": "markdown",
      "metadata": {
        "id": "Ma2f9_ZQRnNK"
      },
      "source": [
        "My instructions for creating a `cost_per_kilometer` are now saved in the variable `my_expression`. This is valid code, but without the DataFrame and a method (\"verb\") to activate the code, if I call the expression I just see the code."
      ]
    },
    {
      "cell_type": "code",
      "execution_count": null,
      "metadata": {
        "id": "fRrJcsn_K7fu"
      },
      "outputs": [
        {
          "data": {
            "text/html": [
              "[(col(\"cost\")) / (col(\"distance_km\"))]"
            ],
            "text/plain": [
              "<Expr ['[(col(\"cost\")) / (col(\"distanc…'] at 0x116B77590>"
            ]
          },
          "execution_count": null,
          "metadata": {},
          "output_type": "execute_result"
        }
      ],
      "source": [
        "# Note that the expression is valid code (you won't get an error)\n",
        "# BUT also note that you need a DataFrame and one of our methods (\"verbs\") that\n",
        "# acts on the expression to generate a result.\n",
        "cost_per_kilometer"
      ]
    },
    {
      "cell_type": "markdown",
      "metadata": {
        "id": "ftWF8nTISB3y"
      },
      "source": [
        "Let's use our expression in a different context. I'm still working with the same `flights` data that we used before, but this time I'm going to use the `select` method of the DataFrame. Note that you can use `select` to generate Series in a DataFrame as well as \"selecting\" Series in DataFrame."
      ]
    },
    {
      "cell_type": "code",
      "execution_count": null,
      "metadata": {
        "id": "me_sS9EjJIWw"
      },
      "outputs": [
        {
          "data": {
            "text/html": [
              "<div><style>\n",
              ".dataframe > thead > tr,\n",
              ".dataframe > tbody > tr {\n",
              "  text-align: right;\n",
              "  white-space: pre-wrap;\n",
              "}\n",
              "</style>\n",
              "<small>shape: (6, 1)</small><table border=\"1\" class=\"dataframe\"><thead><tr><th>cost</th></tr><tr><td>f64</td></tr></thead><tbody><tr><td>null</td></tr><tr><td>0.19305</td></tr><tr><td>0.166898</td></tr><tr><td>0.253807</td></tr><tr><td>0.288462</td></tr><tr><td>0.606061</td></tr></tbody></table></div>"
            ],
            "text/plain": [
              "shape: (6, 1)\n",
              "┌──────────┐\n",
              "│ cost     │\n",
              "│ ---      │\n",
              "│ f64      │\n",
              "╞══════════╡\n",
              "│ null     │\n",
              "│ 0.19305  │\n",
              "│ 0.166898 │\n",
              "│ 0.253807 │\n",
              "│ 0.288462 │\n",
              "│ 0.606061 │\n",
              "└──────────┘"
            ]
          },
          "execution_count": null,
          "metadata": {},
          "output_type": "execute_result"
        }
      ],
      "source": [
        "# and now, I'm going to reuse my_expression with the same Dataframe\n",
        "# but with a different verb (or method)\n",
        "flights.select(\n",
        "    cost_per_kilometer\n",
        ")"
      ]
    },
    {
      "cell_type": "markdown",
      "metadata": {
        "id": "lzyvL8A2Ha_2"
      },
      "source": [
        "If this seems confusing, don't worry! Expressions tend to make more sense as you use Polars more frequently."
      ]
    },
    {
      "cell_type": "markdown",
      "metadata": {
        "id": "6N9FEfMNPgG3"
      },
      "source": [
        "## Polars workflows\n",
        "\n",
        "### Big data and polars\n",
        "\n",
        "The six observations in the flights dataset provide a quick visual idea of polars data manipulation tools, but do not illustrate polars ability to process large data collections. For this section of the workshop, we will scale up our current flights dataset to examine air travel data to Raleigh Durham airport from 2010 to 2024 using data from the Federal Aviation Administration (FAA). A special thanks to Simon Couch and his colleagues who developed the [R package \"anyflights\"](https://github.com/simonpcouch/anyflights) that provided the tools for downloading the FAA data!\n",
        "\n",
        "Let us load these data into Colab and explore Polars with a dataset of roughly a million rows. When you execute the code that follows, click the browse button that appears, and upload the `rdu_flights.parquet` file in the data directory that you downloaded earlier in the class. (Note that we are using the [parquet format](https://en.wikipedia.org/wiki/Apache_Parquet) which stores very large files efficiently.) When the file loads, we get a report of the first five rows and the last five rows of the DataFrame. Polars is designed for working for large data- so the default response takes the size of the data into account."
      ]
    },
    {
      "cell_type": "code",
      "execution_count": 1,
      "metadata": {
        "id": "TuwLzHO4bkf3"
      },
      "outputs": [
        {
          "data": {
            "text/html": [
              "<div><style>\n",
              ".dataframe > thead > tr,\n",
              ".dataframe > tbody > tr {\n",
              "  text-align: right;\n",
              "  white-space: pre-wrap;\n",
              "}\n",
              "</style>\n",
              "<small>shape: (954_988, 45)</small><table border=\"1\" class=\"dataframe\"><thead><tr><th>year</th><th>month</th><th>day</th><th>dep_time</th><th>sched_dep_time</th><th>dep_delay</th><th>arr_time</th><th>sched_arr_time</th><th>arr_delay</th><th>carrier_code</th><th>flight</th><th>tailnum</th><th>origin</th><th>dest</th><th>air_time</th><th>distance</th><th>hour</th><th>minute</th><th>departure_date_time</th><th>carrier_name</th><th>temp</th><th>dewp</th><th>humid</th><th>wind_dir</th><th>wind_speed</th><th>wind_gust</th><th>precip</th><th>pressure</th><th>visib</th><th>time_hour.y</th><th>destination_airport_names</th><th>destination_airport_lat</th><th>destination_airport_lon</th><th>destination_airport_alt</th><th>destination_airport_tz</th><th>destination_airport_dst</th><th>destination_airport_tzone</th><th>plane_year</th><th>plane_type</th><th>plane_manufacturer</th><th>plane_model</th><th>plane_engines</th><th>plane_seats</th><th>plane_speed</th><th>plane_engine</th></tr><tr><td>i64</td><td>i64</td><td>i64</td><td>i64</td><td>i64</td><td>i64</td><td>i64</td><td>i64</td><td>i64</td><td>str</td><td>i64</td><td>str</td><td>str</td><td>str</td><td>i64</td><td>i64</td><td>i64</td><td>i64</td><td>datetime[μs, America/New_York]</td><td>str</td><td>f64</td><td>f64</td><td>f64</td><td>i64</td><td>f64</td><td>f64</td><td>f64</td><td>f64</td><td>f64</td><td>datetime[μs, UTC]</td><td>str</td><td>f64</td><td>f64</td><td>i64</td><td>i64</td><td>str</td><td>str</td><td>i64</td><td>str</td><td>str</td><td>str</td><td>i64</td><td>i64</td><td>i64</td><td>str</td></tr></thead><tbody><tr><td>2010</td><td>1</td><td>1</td><td>553</td><td>600</td><td>-7</td><td>709</td><td>728</td><td>-19</td><td>&quot;FL&quot;</td><td>12</td><td>&quot;N934AT&quot;</td><td>&quot;RDU&quot;</td><td>&quot;ATL&quot;</td><td>62</td><td>356</td><td>6</td><td>0</td><td>2010-01-01 06:00:00 EST</td><td>&quot;AirTran Airways Corporation&quot;</td><td>42.8</td><td>42.8</td><td>100.0</td><td>240</td><td>3.45234</td><td>3.972884</td><td>0.0</td><td>null</td><td>1.5</td><td>2010-01-01 11:00:00 UTC</td><td>&quot;Hartsfield Jackson Atlanta Int…</td><td>33.6367</td><td>-84.428101</td><td>1026</td><td>-5</td><td>&quot;A&quot;</td><td>&quot;America/New_York&quot;</td><td>2000</td><td>&quot;Fixed wing multi engine&quot;</td><td>&quot;BOEING&quot;</td><td>&quot;717-200&quot;</td><td>2</td><td>100</td><td>0</td><td>&quot;Turbo-fan&quot;</td></tr><tr><td>2010</td><td>1</td><td>1</td><td>555</td><td>600</td><td>-5</td><td>720</td><td>740</td><td>-20</td><td>&quot;MQ&quot;</td><td>269</td><td>&quot;N807MQ&quot;</td><td>&quot;RDU&quot;</td><td>&quot;JFK&quot;</td><td>64</td><td>426</td><td>6</td><td>0</td><td>2010-01-01 06:00:00 EST</td><td>&quot;Envoy Air&quot;</td><td>42.8</td><td>42.8</td><td>100.0</td><td>240</td><td>3.45234</td><td>3.972884</td><td>0.0</td><td>null</td><td>1.5</td><td>2010-01-01 11:00:00 UTC</td><td>&quot;John F Kennedy International A…</td><td>40.639801</td><td>-73.7789</td><td>13</td><td>-5</td><td>&quot;A&quot;</td><td>&quot;America/New_York&quot;</td><td>null</td><td>null</td><td>null</td><td>null</td><td>null</td><td>null</td><td>null</td><td>null</td></tr><tr><td>2010</td><td>1</td><td>1</td><td>609</td><td>610</td><td>-1</td><td>755</td><td>813</td><td>-18</td><td>&quot;DL&quot;</td><td>181</td><td>&quot;N368NB&quot;</td><td>&quot;RDU&quot;</td><td>&quot;MSP&quot;</td><td>145</td><td>981</td><td>6</td><td>10</td><td>2010-01-01 06:00:00 EST</td><td>&quot;Delta Air Lines Inc.&quot;</td><td>42.8</td><td>42.8</td><td>100.0</td><td>240</td><td>3.45234</td><td>3.972884</td><td>0.0</td><td>null</td><td>1.5</td><td>2010-01-01 11:00:00 UTC</td><td>&quot;Minneapolis-St Paul Internatio…</td><td>44.882</td><td>-93.221802</td><td>841</td><td>-6</td><td>&quot;A&quot;</td><td>&quot;America/Chicago&quot;</td><td>2003</td><td>&quot;Fixed wing multi engine&quot;</td><td>&quot;AIRBUS&quot;</td><td>&quot;A319-114&quot;</td><td>2</td><td>145</td><td>0</td><td>&quot;Turbo-fan&quot;</td></tr><tr><td>2010</td><td>1</td><td>1</td><td>613</td><td>615</td><td>-2</td><td>825</td><td>830</td><td>-5</td><td>&quot;AA&quot;</td><td>170</td><td>&quot;N4WAAA&quot;</td><td>&quot;RDU&quot;</td><td>&quot;DFW&quot;</td><td>172</td><td>1062</td><td>6</td><td>15</td><td>2010-01-01 06:00:00 EST</td><td>&quot;American Airlines Inc.&quot;</td><td>42.8</td><td>42.8</td><td>100.0</td><td>240</td><td>3.45234</td><td>3.972884</td><td>0.0</td><td>null</td><td>1.5</td><td>2010-01-01 11:00:00 UTC</td><td>&quot;Dallas Fort Worth Internationa…</td><td>32.896801</td><td>-97.038002</td><td>607</td><td>-6</td><td>&quot;A&quot;</td><td>&quot;America/Chicago&quot;</td><td>null</td><td>null</td><td>null</td><td>null</td><td>null</td><td>null</td><td>null</td><td>null</td></tr><tr><td>2010</td><td>1</td><td>1</td><td>617</td><td>618</td><td>-1</td><td>714</td><td>726</td><td>-12</td><td>&quot;UA&quot;</td><td>58</td><td>&quot;N494UA&quot;</td><td>&quot;RDU&quot;</td><td>&quot;IAD&quot;</td><td>38</td><td>224</td><td>6</td><td>18</td><td>2010-01-01 06:00:00 EST</td><td>&quot;United Air Lines Inc.&quot;</td><td>42.8</td><td>42.8</td><td>100.0</td><td>240</td><td>3.45234</td><td>3.972884</td><td>0.0</td><td>null</td><td>1.5</td><td>2010-01-01 11:00:00 UTC</td><td>&quot;Washington Dulles Internationa…</td><td>38.9445</td><td>-77.455803</td><td>312</td><td>-5</td><td>&quot;A&quot;</td><td>&quot;America/New_York&quot;</td><td>2002</td><td>&quot;Fixed wing multi engine&quot;</td><td>&quot;AIRBUS&quot;</td><td>&quot;A320-232&quot;</td><td>2</td><td>200</td><td>0</td><td>&quot;Turbo-fan&quot;</td></tr><tr><td>&hellip;</td><td>&hellip;</td><td>&hellip;</td><td>&hellip;</td><td>&hellip;</td><td>&hellip;</td><td>&hellip;</td><td>&hellip;</td><td>&hellip;</td><td>&hellip;</td><td>&hellip;</td><td>&hellip;</td><td>&hellip;</td><td>&hellip;</td><td>&hellip;</td><td>&hellip;</td><td>&hellip;</td><td>&hellip;</td><td>&hellip;</td><td>&hellip;</td><td>&hellip;</td><td>&hellip;</td><td>&hellip;</td><td>&hellip;</td><td>&hellip;</td><td>&hellip;</td><td>&hellip;</td><td>&hellip;</td><td>&hellip;</td><td>&hellip;</td><td>&hellip;</td><td>&hellip;</td><td>&hellip;</td><td>&hellip;</td><td>&hellip;</td><td>&hellip;</td><td>&hellip;</td><td>&hellip;</td><td>&hellip;</td><td>&hellip;</td><td>&hellip;</td><td>&hellip;</td><td>&hellip;</td><td>&hellip;</td><td>&hellip;</td></tr><tr><td>2024</td><td>9</td><td>30</td><td>2117</td><td>2051</td><td>26</td><td>2206</td><td>2155</td><td>11</td><td>&quot;AA&quot;</td><td>111</td><td>&quot;N131NN&quot;</td><td>&quot;RDU&quot;</td><td>&quot;CLT&quot;</td><td>27</td><td>130</td><td>20</td><td>51</td><td>2024-09-30 20:00:00 EDT</td><td>&quot;American Airlines Inc.&quot;</td><td>null</td><td>null</td><td>null</td><td>null</td><td>null</td><td>null</td><td>null</td><td>null</td><td>null</td><td>null</td><td>&quot;Charlotte Douglas Internationa…</td><td>35.214001</td><td>-80.9431</td><td>748</td><td>-5</td><td>&quot;A&quot;</td><td>&quot;America/New_York&quot;</td><td>2015</td><td>&quot;Fixed wing multi engine&quot;</td><td>&quot;AIRBUS&quot;</td><td>&quot;A321-231&quot;</td><td>2</td><td>379</td><td>0</td><td>&quot;Turbo-fan&quot;</td></tr><tr><td>2024</td><td>9</td><td>30</td><td>2203</td><td>2127</td><td>36</td><td>2332</td><td>2259</td><td>33</td><td>&quot;F9&quot;</td><td>188</td><td>&quot;N338FR&quot;</td><td>&quot;RDU&quot;</td><td>&quot;LGA&quot;</td><td>64</td><td>431</td><td>21</td><td>27</td><td>2024-09-30 21:00:00 EDT</td><td>&quot;Frontier Airlines Inc.&quot;</td><td>null</td><td>null</td><td>null</td><td>null</td><td>null</td><td>null</td><td>null</td><td>null</td><td>null</td><td>null</td><td>&quot;La Guardia Airport&quot;</td><td>40.777199</td><td>-73.872597</td><td>21</td><td>-5</td><td>&quot;A&quot;</td><td>&quot;America/New_York&quot;</td><td>2018</td><td>&quot;Fixed wing multi engine&quot;</td><td>&quot;AIRBUS&quot;</td><td>&quot;A320-251N&quot;</td><td>2</td><td>190</td><td>0</td><td>&quot;Turbo-jet&quot;</td></tr><tr><td>2024</td><td>9</td><td>30</td><td>2203</td><td>2204</td><td>-1</td><td>7</td><td>4</td><td>3</td><td>&quot;F9&quot;</td><td>140</td><td>&quot;N354FR&quot;</td><td>&quot;RDU&quot;</td><td>&quot;DFW&quot;</td><td>141</td><td>1061</td><td>22</td><td>4</td><td>2024-09-30 22:00:00 EDT</td><td>&quot;Frontier Airlines Inc.&quot;</td><td>null</td><td>null</td><td>null</td><td>null</td><td>null</td><td>null</td><td>null</td><td>null</td><td>null</td><td>null</td><td>&quot;Dallas Fort Worth Internationa…</td><td>32.896801</td><td>-97.038002</td><td>607</td><td>-6</td><td>&quot;A&quot;</td><td>&quot;America/Chicago&quot;</td><td>2019</td><td>&quot;Fixed wing multi engine&quot;</td><td>&quot;AIRBUS&quot;</td><td>&quot;A320-251N&quot;</td><td>2</td><td>190</td><td>0</td><td>&quot;Turbo-jet&quot;</td></tr><tr><td>2024</td><td>9</td><td>30</td><td>2206</td><td>1855</td><td>191</td><td>2304</td><td>2005</td><td>179</td><td>&quot;WN&quot;</td><td>115</td><td>&quot;N8538V&quot;</td><td>&quot;RDU&quot;</td><td>&quot;BWI&quot;</td><td>43</td><td>255</td><td>18</td><td>55</td><td>2024-09-30 18:00:00 EDT</td><td>&quot;Southwest Airlines Co.&quot;</td><td>null</td><td>null</td><td>null</td><td>null</td><td>null</td><td>null</td><td>null</td><td>null</td><td>null</td><td>null</td><td>&quot;Baltimore/Washington Internati…</td><td>39.1754</td><td>-76.668297</td><td>146</td><td>-5</td><td>&quot;A&quot;</td><td>&quot;America/New_York&quot;</td><td>2017</td><td>&quot;Fixed wing multi engine&quot;</td><td>&quot;BOEING&quot;</td><td>&quot;737-800&quot;</td><td>2</td><td>189</td><td>0</td><td>&quot;Turbo-fan&quot;</td></tr><tr><td>2024</td><td>9</td><td>30</td><td>null</td><td>600</td><td>null</td><td>null</td><td>727</td><td>null</td><td>&quot;OH&quot;</td><td>279</td><td>null</td><td>&quot;RDU&quot;</td><td>&quot;PHL&quot;</td><td>null</td><td>337</td><td>6</td><td>0</td><td>2024-09-30 06:00:00 EDT</td><td>&quot;PSA Airlines Inc.&quot;</td><td>null</td><td>null</td><td>null</td><td>null</td><td>null</td><td>null</td><td>null</td><td>null</td><td>null</td><td>null</td><td>&quot;Philadelphia International Air…</td><td>39.871899</td><td>-75.241096</td><td>36</td><td>-5</td><td>&quot;A&quot;</td><td>&quot;America/New_York&quot;</td><td>null</td><td>null</td><td>null</td><td>null</td><td>null</td><td>null</td><td>null</td><td>null</td></tr></tbody></table></div>"
            ],
            "text/plain": [
              "shape: (954_988, 45)\n",
              "┌──────┬───────┬─────┬──────────┬───┬───────────────┬─────────────┬─────────────┬──────────────┐\n",
              "│ year ┆ month ┆ day ┆ dep_time ┆ … ┆ plane_engines ┆ plane_seats ┆ plane_speed ┆ plane_engine │\n",
              "│ ---  ┆ ---   ┆ --- ┆ ---      ┆   ┆ ---           ┆ ---         ┆ ---         ┆ ---          │\n",
              "│ i64  ┆ i64   ┆ i64 ┆ i64      ┆   ┆ i64           ┆ i64         ┆ i64         ┆ str          │\n",
              "╞══════╪═══════╪═════╪══════════╪═══╪═══════════════╪═════════════╪═════════════╪══════════════╡\n",
              "│ 2010 ┆ 1     ┆ 1   ┆ 553      ┆ … ┆ 2             ┆ 100         ┆ 0           ┆ Turbo-fan    │\n",
              "│ 2010 ┆ 1     ┆ 1   ┆ 555      ┆ … ┆ null          ┆ null        ┆ null        ┆ null         │\n",
              "│ 2010 ┆ 1     ┆ 1   ┆ 609      ┆ … ┆ 2             ┆ 145         ┆ 0           ┆ Turbo-fan    │\n",
              "│ 2010 ┆ 1     ┆ 1   ┆ 613      ┆ … ┆ null          ┆ null        ┆ null        ┆ null         │\n",
              "│ 2010 ┆ 1     ┆ 1   ┆ 617      ┆ … ┆ 2             ┆ 200         ┆ 0           ┆ Turbo-fan    │\n",
              "│ …    ┆ …     ┆ …   ┆ …        ┆ … ┆ …             ┆ …           ┆ …           ┆ …            │\n",
              "│ 2024 ┆ 9     ┆ 30  ┆ 2117     ┆ … ┆ 2             ┆ 379         ┆ 0           ┆ Turbo-fan    │\n",
              "│ 2024 ┆ 9     ┆ 30  ┆ 2203     ┆ … ┆ 2             ┆ 190         ┆ 0           ┆ Turbo-jet    │\n",
              "│ 2024 ┆ 9     ┆ 30  ┆ 2203     ┆ … ┆ 2             ┆ 190         ┆ 0           ┆ Turbo-jet    │\n",
              "│ 2024 ┆ 9     ┆ 30  ┆ 2206     ┆ … ┆ 2             ┆ 189         ┆ 0           ┆ Turbo-fan    │\n",
              "│ 2024 ┆ 9     ┆ 30  ┆ null     ┆ … ┆ null          ┆ null        ┆ null        ┆ null         │\n",
              "└──────┴───────┴─────┴──────────┴───┴───────────────┴─────────────┴─────────────┴──────────────┘"
            ]
          },
          "execution_count": null,
          "metadata": {},
          "output_type": "execute_result"
        }
      ],
      "source": [
        "# if you are running this outside of google colab\n",
        "# omit the first four lines and uncomment the fifth\n",
        "import polars as pl #if neeeded\n",
        "#from google.colab import files\n",
        "#files.upload() # choose rdu_flights.parquet\n",
        "#rdu_flights = pl.read_parquet(\"rdu_flights.parquet\") # basic example\n",
        "rdu_flights = pl.read_parquet(\"data/rdu_flights.parquet\")\n",
        "rdu_flights"
      ]
    },
    {
      "cell_type": "markdown",
      "metadata": {
        "id": "r-vtz3wG2a2T"
      },
      "source": [
        "### Getting a sense of the data\n",
        "Before we start exploring the `rdu_flights` data, let us first try to understand a little bit about how this data differs from our six flight example that we used earlier. If you look at the top of the of the DataFrame listing above, you will note that Polars already provides information about the DataFrame each time you print it. The shape (954_988, 45) tells us that we have 954988 rows (the underscore is python's way of making the number easier to read) and 45 columns.  It is possible to ask polars directly for the number of rows and columns by using the `height` and `width` properties of the DataFrame at any time. We can also ask for the column names (`columns`) to get a sense of the variables.\n",
        "\n",
        "Note: If you are using polars heavily for data exploration, I'd strongly recommend using an intergrated development environment (IDE) for coding and data analysis. Several IDEs have powerful and convenient tools for exploring data and variables that will allow you to focus on analytics."
      ]
    },
    {
      "cell_type": "code",
      "execution_count": null,
      "metadata": {},
      "outputs": [],
      "source": [
        "rdu_flights.shape # how many rows and columns in the dataframe"
      ]
    },
    {
      "cell_type": "code",
      "execution_count": null,
      "metadata": {
        "id": "rsuG8Sdk6BoI"
      },
      "outputs": [],
      "source": [
        "rdu_flights.height # how many rows in the dataframe?"
      ]
    },
    {
      "cell_type": "code",
      "execution_count": null,
      "metadata": {
        "id": "3W11jhK_6Iwu"
      },
      "outputs": [],
      "source": [
        "rdu_flights.width # how many columns?"
      ]
    },
    {
      "cell_type": "code",
      "execution_count": null,
      "metadata": {
        "id": "a8yxWwnO6Zpo"
      },
      "outputs": [],
      "source": [
        "rdu_flights.columns # what are the column names?"
      ]
    },
    {
      "cell_type": "code",
      "execution_count": null,
      "metadata": {
        "id": "-z62KJVPA8QM"
      },
      "outputs": [],
      "source": [
        "rdu_flights.schema # let's look at the column names and data types together"
      ]
    },
    {
      "cell_type": "code",
      "execution_count": 2,
      "metadata": {
        "id": "sYMJYTq4rA4N"
      },
      "outputs": [
        {
          "data": {
            "text/html": [
              "<div><style>\n",
              ".dataframe > thead > tr,\n",
              ".dataframe > tbody > tr {\n",
              "  text-align: right;\n",
              "  white-space: pre-wrap;\n",
              "}\n",
              "</style>\n",
              "<small>shape: (9, 46)</small><table border=\"1\" class=\"dataframe\"><thead><tr><th>statistic</th><th>year</th><th>month</th><th>day</th><th>dep_time</th><th>sched_dep_time</th><th>dep_delay</th><th>arr_time</th><th>sched_arr_time</th><th>arr_delay</th><th>carrier_code</th><th>flight</th><th>tailnum</th><th>origin</th><th>dest</th><th>air_time</th><th>distance</th><th>hour</th><th>minute</th><th>departure_date_time</th><th>carrier_name</th><th>temp</th><th>dewp</th><th>humid</th><th>wind_dir</th><th>wind_speed</th><th>wind_gust</th><th>precip</th><th>pressure</th><th>visib</th><th>time_hour.y</th><th>destination_airport_names</th><th>destination_airport_lat</th><th>destination_airport_lon</th><th>destination_airport_alt</th><th>destination_airport_tz</th><th>destination_airport_dst</th><th>destination_airport_tzone</th><th>plane_year</th><th>plane_type</th><th>plane_manufacturer</th><th>plane_model</th><th>plane_engines</th><th>plane_seats</th><th>plane_speed</th><th>plane_engine</th></tr><tr><td>str</td><td>f64</td><td>f64</td><td>f64</td><td>f64</td><td>f64</td><td>f64</td><td>f64</td><td>f64</td><td>f64</td><td>str</td><td>f64</td><td>str</td><td>str</td><td>str</td><td>f64</td><td>f64</td><td>f64</td><td>f64</td><td>str</td><td>str</td><td>f64</td><td>f64</td><td>f64</td><td>f64</td><td>f64</td><td>f64</td><td>f64</td><td>f64</td><td>f64</td><td>str</td><td>str</td><td>f64</td><td>f64</td><td>f64</td><td>f64</td><td>str</td><td>str</td><td>f64</td><td>str</td><td>str</td><td>str</td><td>f64</td><td>f64</td><td>f64</td><td>str</td></tr></thead><tbody><tr><td>&quot;count&quot;</td><td>954988.0</td><td>954988.0</td><td>954988.0</td><td>933410.0</td><td>954988.0</td><td>933372.0</td><td>932515.0</td><td>954988.0</td><td>930678.0</td><td>&quot;954988&quot;</td><td>954988.0</td><td>&quot;949543&quot;</td><td>&quot;954988&quot;</td><td>&quot;954988&quot;</td><td>930702.0</td><td>954988.0</td><td>954988.0</td><td>954988.0</td><td>&quot;954988&quot;</td><td>&quot;954988&quot;</td><td>298757.0</td><td>298698.0</td><td>298697.0</td><td>876682.0</td><td>903195.0</td><td>903195.0</td><td>244561.0</td><td>263890.0</td><td>922862.0</td><td>&quot;923036&quot;</td><td>&quot;952641&quot;</td><td>952641.0</td><td>952641.0</td><td>952641.0</td><td>952641.0</td><td>&quot;952641&quot;</td><td>&quot;952641&quot;</td><td>837604.0</td><td>&quot;857448&quot;</td><td>&quot;857448&quot;</td><td>&quot;857448&quot;</td><td>857429.0</td><td>857426.0</td><td>857448.0</td><td>&quot;857448&quot;</td></tr><tr><td>&quot;null_count&quot;</td><td>0.0</td><td>0.0</td><td>0.0</td><td>21578.0</td><td>0.0</td><td>21616.0</td><td>22473.0</td><td>0.0</td><td>24310.0</td><td>&quot;0&quot;</td><td>0.0</td><td>&quot;5445&quot;</td><td>&quot;0&quot;</td><td>&quot;0&quot;</td><td>24286.0</td><td>0.0</td><td>0.0</td><td>0.0</td><td>&quot;0&quot;</td><td>&quot;0&quot;</td><td>656231.0</td><td>656290.0</td><td>656291.0</td><td>78306.0</td><td>51793.0</td><td>51793.0</td><td>710427.0</td><td>691098.0</td><td>32126.0</td><td>&quot;31952&quot;</td><td>&quot;2347&quot;</td><td>2347.0</td><td>2347.0</td><td>2347.0</td><td>2347.0</td><td>&quot;2347&quot;</td><td>&quot;2347&quot;</td><td>117384.0</td><td>&quot;97540&quot;</td><td>&quot;97540&quot;</td><td>&quot;97540&quot;</td><td>97559.0</td><td>97562.0</td><td>97540.0</td><td>&quot;97540&quot;</td></tr><tr><td>&quot;mean&quot;</td><td>2017.423435</td><td>6.491942</td><td>15.745004</td><td>1258.682642</td><td>1250.621039</td><td>10.132992</td><td>1402.463886</td><td>1408.937122</td><td>4.868246</td><td>null</td><td>152.088545</td><td>null</td><td>null</td><td>null</td><td>95.289715</td><td>626.541707</td><td>12.24622</td><td>25.999054</td><td>&quot;2017-12-02 22:11:06.456960-05:…</td><td>null</td><td>59.463573</td><td>47.360029</td><td>67.698831</td><td>136.641775</td><td>5.74714</td><td>6.613693</td><td>0.005341</td><td>1018.147586</td><td>9.270627</td><td>&quot;2017-12-03 02:02:58.557716+00:…</td><td>null</td><td>37.02327</td><td>-84.298705</td><td>558.739148</td><td>-5.442069</td><td>null</td><td>null</td><td>2004.660361</td><td>null</td><td>null</td><td>null</td><td>1.993812</td><td>132.165919</td><td>1.150801</td><td>null</td></tr><tr><td>&quot;std&quot;</td><td>3.816657</td><td>3.401967</td><td>8.766673</td><td>484.650805</td><td>469.664462</td><td>48.808198</td><td>491.690245</td><td>474.995666</td><td>50.915639</td><td>null</td><td>105.25501</td><td>null</td><td>null</td><td>null</td><td>63.339855</td><td>481.898839</td><td>4.672328</td><td>18.282786</td><td>null</td><td>null</td><td>17.781744</td><td>18.282563</td><td>20.663515</td><td>115.293381</td><td>4.427147</td><td>5.094672</td><td>0.028061</td><td>6.677732</td><td>2.009998</td><td>null</td><td>null</td><td>5.033743</td><td>11.509966</td><td>971.185879</td><td>0.77921</td><td>null</td><td>null</td><td>19.880725</td><td>null</td><td>null</td><td>null</td><td>0.095446</td><td>62.354788</td><td>17.679796</td><td>null</td></tr><tr><td>&quot;min&quot;</td><td>2010.0</td><td>1.0</td><td>1.0</td><td>1.0</td><td>45.0</td><td>-67.0</td><td>1.0</td><td>1.0</td><td>-78.0</td><td>&quot;9E&quot;</td><td>1.0</td><td>&quot;(null)&quot;</td><td>&quot;RDU&quot;</td><td>&quot;ALB&quot;</td><td>11.0</td><td>113.0</td><td>0.0</td><td>0.0</td><td>&quot;2010-01-01 06:00:00-05:00&quot;</td><td>&quot;AirTran Airways Corporation&quot;</td><td>7.0</td><td>-11.0</td><td>8.51</td><td>0.0</td><td>0.0</td><td>0.0</td><td>0.0</td><td>990.8</td><td>0.0</td><td>&quot;2010-01-01 11:00:00+00:00&quot;</td><td>&quot;Albany International Airport&quot;</td><td>25.7932</td><td>-122.375</td><td>4.0</td><td>-8.0</td><td>&quot;A&quot;</td><td>&quot;America/Chicago&quot;</td><td>0.0</td><td>&quot;Balloon&quot;</td><td>&quot;AERO COMMANDER&quot;</td><td>&quot;150&quot;</td><td>1.0</td><td>1.0</td><td>0.0</td><td>&quot;2 Cycle&quot;</td></tr><tr><td>&quot;25%&quot;</td><td>2015.0</td><td>4.0</td><td>8.0</td><td>812.0</td><td>807.0</td><td>-5.0</td><td>947.0</td><td>953.0</td><td>-15.0</td><td>null</td><td>68.0</td><td>null</td><td>null</td><td>null</td><td>58.0</td><td>356.0</td><td>8.0</td><td>10.0</td><td>&quot;2015-06-24 06:00:00-04:00&quot;</td><td>null</td><td>45.0</td><td>33.0</td><td>50.94</td><td>10.0</td><td>2.30156</td><td>2.648589</td><td>0.0</td><td>1013.9</td><td>10.0</td><td>&quot;2015-06-24 15:00:00+00:00&quot;</td><td>null</td><td>33.6367</td><td>-87.9048</td><td>21.0</td><td>-6.0</td><td>null</td><td>null</td><td>2000.0</td><td>null</td><td>null</td><td>null</td><td>2.0</td><td>88.0</td><td>0.0</td><td>null</td></tr><tr><td>&quot;50%&quot;</td><td>2018.0</td><td>7.0</td><td>16.0</td><td>1236.0</td><td>1230.0</td><td>-2.0</td><td>1400.0</td><td>1404.0</td><td>-7.0</td><td>null</td><td>134.0</td><td>null</td><td>null</td><td>null</td><td>74.0</td><td>442.0</td><td>12.0</td><td>25.0</td><td>&quot;2018-05-19 07:00:00-04:00&quot;</td><td>null</td><td>61.0</td><td>50.0</td><td>70.64</td><td>140.0</td><td>5.7539</td><td>6.621473</td><td>0.0</td><td>1017.9</td><td>10.0</td><td>&quot;2018-05-19 10:00:00+00:00&quot;</td><td>null</td><td>38.9445</td><td>-81.308998</td><td>146.0</td><td>-5.0</td><td>null</td><td>null</td><td>2005.0</td><td>null</td><td>null</td><td>null</td><td>2.0</td><td>140.0</td><td>0.0</td><td>null</td></tr><tr><td>&quot;75%&quot;</td><td>2020.0</td><td>9.0</td><td>23.0</td><td>1714.0</td><td>1705.0</td><td>5.0</td><td>1843.0</td><td>1845.0</td><td>7.0</td><td>null</td><td>219.0</td><td>null</td><td>null</td><td>null</td><td>103.0</td><td>667.0</td><td>17.0</td><td>41.0</td><td>&quot;2020-04-05 09:00:00-04:00&quot;</td><td>null</td><td>73.0</td><td>64.0</td><td>86.66</td><td>230.0</td><td>8.05546</td><td>9.270062</td><td>0.0</td><td>1022.4</td><td>10.0</td><td>&quot;2020-04-05 16:00:00+00:00&quot;</td><td>null</td><td>40.777199</td><td>-75.241096</td><td>748.0</td><td>-5.0</td><td>null</td><td>null</td><td>2011.0</td><td>null</td><td>null</td><td>null</td><td>2.0</td><td>179.0</td><td>0.0</td><td>null</td></tr><tr><td>&quot;max&quot;</td><td>2024.0</td><td>12.0</td><td>31.0</td><td>2400.0</td><td>2355.0</td><td>2826.0</td><td>2400.0</td><td>2359.0</td><td>2815.0</td><td>&quot;YX&quot;</td><td>610.0</td><td>&quot;N9EAMQ&quot;</td><td>&quot;RDU&quot;</td><td>&quot;XNA&quot;</td><td>626.0</td><td>2400.0</td><td>23.0</td><td>59.0</td><td>&quot;2024-09-30 22:00:00-04:00&quot;</td><td>&quot;Virgin America&quot;</td><td>105.0</td><td>79.0</td><td>100.0</td><td>360.0</td><td>51.7851</td><td>59.593257</td><td>1.9</td><td>1041.2</td><td>67.0</td><td>&quot;2024-09-30 02:00:00+00:00&quot;</td><td>&quot;William P Hobby Airport&quot;</td><td>47.449001</td><td>-70.309303</td><td>5431.0</td><td>-5.0</td><td>&quot;N&quot;</td><td>&quot;America/Phoenix&quot;</td><td>2024.0</td><td>&quot;Weight-shift-control&quot;</td><td>&quot;ZITZMANN/LAWRENCE/GALEOTI&quot;</td><td>&quot;ZODIAC 601HDS&quot;</td><td>8.0</td><td>440.0</td><td>438.0</td><td>&quot;Turbo-shaft&quot;</td></tr></tbody></table></div>"
            ],
            "text/plain": [
              "shape: (9, 46)\n",
              "┌───────────┬───────────┬──────────┬───────────┬───┬───────────┬───────────┬───────────┬───────────┐\n",
              "│ statistic ┆ year      ┆ month    ┆ day       ┆ … ┆ plane_eng ┆ plane_sea ┆ plane_spe ┆ plane_eng │\n",
              "│ ---       ┆ ---       ┆ ---      ┆ ---       ┆   ┆ ines      ┆ ts        ┆ ed        ┆ ine       │\n",
              "│ str       ┆ f64       ┆ f64      ┆ f64       ┆   ┆ ---       ┆ ---       ┆ ---       ┆ ---       │\n",
              "│           ┆           ┆          ┆           ┆   ┆ f64       ┆ f64       ┆ f64       ┆ str       │\n",
              "╞═══════════╪═══════════╪══════════╪═══════════╪═══╪═══════════╪═══════════╪═══════════╪═══════════╡\n",
              "│ count     ┆ 954988.0  ┆ 954988.0 ┆ 954988.0  ┆ … ┆ 857429.0  ┆ 857426.0  ┆ 857448.0  ┆ 857448    │\n",
              "│ null_coun ┆ 0.0       ┆ 0.0      ┆ 0.0       ┆ … ┆ 97559.0   ┆ 97562.0   ┆ 97540.0   ┆ 97540     │\n",
              "│ t         ┆           ┆          ┆           ┆   ┆           ┆           ┆           ┆           │\n",
              "│ mean      ┆ 2017.4234 ┆ 6.491942 ┆ 15.745004 ┆ … ┆ 1.993812  ┆ 132.16591 ┆ 1.150801  ┆ null      │\n",
              "│           ┆ 35        ┆          ┆           ┆   ┆           ┆ 9         ┆           ┆           │\n",
              "│ std       ┆ 3.816657  ┆ 3.401967 ┆ 8.766673  ┆ … ┆ 0.095446  ┆ 62.354788 ┆ 17.679796 ┆ null      │\n",
              "│ min       ┆ 2010.0    ┆ 1.0      ┆ 1.0       ┆ … ┆ 1.0       ┆ 1.0       ┆ 0.0       ┆ 2 Cycle   │\n",
              "│ 25%       ┆ 2015.0    ┆ 4.0      ┆ 8.0       ┆ … ┆ 2.0       ┆ 88.0      ┆ 0.0       ┆ null      │\n",
              "│ 50%       ┆ 2018.0    ┆ 7.0      ┆ 16.0      ┆ … ┆ 2.0       ┆ 140.0     ┆ 0.0       ┆ null      │\n",
              "│ 75%       ┆ 2020.0    ┆ 9.0      ┆ 23.0      ┆ … ┆ 2.0       ┆ 179.0     ┆ 0.0       ┆ null      │\n",
              "│ max       ┆ 2024.0    ┆ 12.0     ┆ 31.0      ┆ … ┆ 8.0       ┆ 440.0     ┆ 438.0     ┆ Turbo-sha │\n",
              "│           ┆           ┆          ┆           ┆   ┆           ┆           ┆           ┆ ft        │\n",
              "└───────────┴───────────┴──────────┴───────────┴───┴───────────┴───────────┴───────────┴───────────┘"
            ]
          },
          "execution_count": null,
          "metadata": {},
          "output_type": "execute_result"
        }
      ],
      "source": [
        "rdu_flights.describe() # descriptive statistics for the dataframe (you have to look at the dep_delay column)"
      ]
    },
    {
      "cell_type": "markdown",
      "metadata": {
        "id": "pUHMP1RK6pVz"
      },
      "source": [
        "The `rdu_flights` DataFrame list all the flights with Raleigh Durham airport as the `origin`. The DataFrame also has rich information about the nature of the flight (departure time versus scheduled departure for example), the weather at RDU at the time of the flight, and the type of plane used for the flight. For today's workshop, we only have time to explore a bit, but you are welcome to use this dataset to explore (and maybe form some hypothesis about?) flights out of Raleigh Durham airport.\n",
        "\n",
        "### Exploratory analysis: Example 1\n",
        "\n",
        "The primary reason that most people consider polars is its speed at processing large data collections. Let's ask some questions about our data and note the Polars speed (the `rdu_flights` dataframe has roughly a million observations.)\n",
        "\n",
        "1. What are the number of departing flights at RDU airport by year?\n",
        "\n",
        "We can't directly see a million observations, but we might be interested in the number of flights that originate from Raleigh Durham airport each year from 2010 to 2024 (we only have data through September 2024). Let's group the DataFrame by year and create an expression to count the flights (each row in this DataFrame is a flight) using the `len()` method."
      ]
    },
    {
      "cell_type": "code",
      "execution_count": 3,
      "metadata": {
        "id": "egoQl6-tPNfo"
      },
      "outputs": [
        {
          "data": {
            "text/html": [
              "<div><style>\n",
              ".dataframe > thead > tr,\n",
              ".dataframe > tbody > tr {\n",
              "  text-align: right;\n",
              "  white-space: pre-wrap;\n",
              "}\n",
              "</style>\n",
              "<small>shape: (15, 2)</small><table border=\"1\" class=\"dataframe\"><thead><tr><th>year</th><th>len</th></tr><tr><td>i64</td><td>u32</td></tr></thead><tbody><tr><td>2021</td><td>44136</td></tr><tr><td>2015</td><td>34898</td></tr><tr><td>2022</td><td>54049</td></tr><tr><td>2023</td><td>59416</td></tr><tr><td>2017</td><td>71874</td></tr><tr><td>&hellip;</td><td>&hellip;</td></tr><tr><td>2016</td><td>104895</td></tr><tr><td>2011</td><td>42620</td></tr><tr><td>2020</td><td>67720</td></tr><tr><td>2010</td><td>48924</td></tr><tr><td>2024</td><td>45884</td></tr></tbody></table></div>"
            ],
            "text/plain": [
              "shape: (15, 2)\n",
              "┌──────┬────────┐\n",
              "│ year ┆ len    │\n",
              "│ ---  ┆ ---    │\n",
              "│ i64  ┆ u32    │\n",
              "╞══════╪════════╡\n",
              "│ 2021 ┆ 44136  │\n",
              "│ 2015 ┆ 34898  │\n",
              "│ 2022 ┆ 54049  │\n",
              "│ 2023 ┆ 59416  │\n",
              "│ 2017 ┆ 71874  │\n",
              "│ …    ┆ …      │\n",
              "│ 2016 ┆ 104895 │\n",
              "│ 2011 ┆ 42620  │\n",
              "│ 2020 ┆ 67720  │\n",
              "│ 2010 ┆ 48924  │\n",
              "│ 2024 ┆ 45884  │\n",
              "└──────┴────────┘"
            ]
          },
          "execution_count": null,
          "metadata": {},
          "output_type": "execute_result"
        }
      ],
      "source": [
        "rdu_flights.group_by('year').agg(pl.len())"
      ]
    },
    {
      "cell_type": "markdown",
      "metadata": {
        "id": "3lQ894v7Yws5"
      },
      "source": [
        "This is great... the polars algorithm is fast (instantaneous), but it doesn't return the data sorted in a way that makes it easy to parse. We'd like to have those years sorted.\n",
        "\n",
        "I'll also note that polars default way of printing DataFrames is great for looking at big data, but very frustrating for smaller DataFrames, we'll change the default.  If you use this code: `pl.Config.set_tbl_rows(100)`, Polars will display up to 100 rows without breaks."
      ]
    },
    {
      "cell_type": "code",
      "execution_count": 4,
      "metadata": {
        "id": "OEJLd6dLazti"
      },
      "outputs": [
        {
          "data": {
            "text/html": [
              "<div><style>\n",
              ".dataframe > thead > tr,\n",
              ".dataframe > tbody > tr {\n",
              "  text-align: right;\n",
              "  white-space: pre-wrap;\n",
              "}\n",
              "</style>\n",
              "<small>shape: (15, 2)</small><table border=\"1\" class=\"dataframe\"><thead><tr><th>year</th><th>len</th></tr><tr><td>i64</td><td>u32</td></tr></thead><tbody><tr><td>2010</td><td>48924</td></tr><tr><td>2011</td><td>42620</td></tr><tr><td>2012</td><td>44016</td></tr><tr><td>2013</td><td>47983</td></tr><tr><td>2014</td><td>38813</td></tr><tr><td>2015</td><td>34898</td></tr><tr><td>2016</td><td>104895</td></tr><tr><td>2017</td><td>71874</td></tr><tr><td>2018</td><td>121448</td></tr><tr><td>2019</td><td>128312</td></tr><tr><td>2020</td><td>67720</td></tr><tr><td>2021</td><td>44136</td></tr><tr><td>2022</td><td>54049</td></tr><tr><td>2023</td><td>59416</td></tr><tr><td>2024</td><td>45884</td></tr></tbody></table></div>"
            ],
            "text/plain": [
              "shape: (15, 2)\n",
              "┌──────┬────────┐\n",
              "│ year ┆ len    │\n",
              "│ ---  ┆ ---    │\n",
              "│ i64  ┆ u32    │\n",
              "╞══════╪════════╡\n",
              "│ 2010 ┆ 48924  │\n",
              "│ 2011 ┆ 42620  │\n",
              "│ 2012 ┆ 44016  │\n",
              "│ 2013 ┆ 47983  │\n",
              "│ 2014 ┆ 38813  │\n",
              "│ 2015 ┆ 34898  │\n",
              "│ 2016 ┆ 104895 │\n",
              "│ 2017 ┆ 71874  │\n",
              "│ 2018 ┆ 121448 │\n",
              "│ 2019 ┆ 128312 │\n",
              "│ 2020 ┆ 67720  │\n",
              "│ 2021 ┆ 44136  │\n",
              "│ 2022 ┆ 54049  │\n",
              "│ 2023 ┆ 59416  │\n",
              "│ 2024 ┆ 45884  │\n",
              "└──────┴────────┘"
            ]
          },
          "execution_count": null,
          "metadata": {},
          "output_type": "execute_result"
        }
      ],
      "source": [
        "pl.Config.set_tbl_rows(100) # show 100 rows\n",
        "rdu_flights.group_by('year').agg(pl.len()).sort('year')"
      ]
    },
    {
      "cell_type": "markdown",
      "metadata": {
        "id": "mk7bDN_DbSBS"
      },
      "source": [
        "This is great, but we might want to share this with someone. Let us rename the second column from `len` to `flights` How would you do that?"
      ]
    },
    {
      "cell_type": "code",
      "execution_count": 6,
      "metadata": {
        "id": "dLJYOHpwbeSh"
      },
      "outputs": [
        {
          "data": {
            "text/html": [
              "<div><style>\n",
              ".dataframe > thead > tr,\n",
              ".dataframe > tbody > tr {\n",
              "  text-align: right;\n",
              "  white-space: pre-wrap;\n",
              "}\n",
              "</style>\n",
              "<small>shape: (15, 2)</small><table border=\"1\" class=\"dataframe\"><thead><tr><th>year</th><th>flights</th></tr><tr><td>i64</td><td>u32</td></tr></thead><tbody><tr><td>2010</td><td>48924</td></tr><tr><td>2011</td><td>42620</td></tr><tr><td>2012</td><td>44016</td></tr><tr><td>2013</td><td>47983</td></tr><tr><td>2014</td><td>38813</td></tr><tr><td>2015</td><td>34898</td></tr><tr><td>2016</td><td>104895</td></tr><tr><td>2017</td><td>71874</td></tr><tr><td>2018</td><td>121448</td></tr><tr><td>2019</td><td>128312</td></tr><tr><td>2020</td><td>67720</td></tr><tr><td>2021</td><td>44136</td></tr><tr><td>2022</td><td>54049</td></tr><tr><td>2023</td><td>59416</td></tr><tr><td>2024</td><td>45884</td></tr></tbody></table></div>"
            ],
            "text/plain": [
              "shape: (15, 2)\n",
              "┌──────┬─────────┐\n",
              "│ year ┆ flights │\n",
              "│ ---  ┆ ---     │\n",
              "│ i64  ┆ u32     │\n",
              "╞══════╪═════════╡\n",
              "│ 2010 ┆ 48924   │\n",
              "│ 2011 ┆ 42620   │\n",
              "│ 2012 ┆ 44016   │\n",
              "│ 2013 ┆ 47983   │\n",
              "│ 2014 ┆ 38813   │\n",
              "│ 2015 ┆ 34898   │\n",
              "│ 2016 ┆ 104895  │\n",
              "│ 2017 ┆ 71874   │\n",
              "│ 2018 ┆ 121448  │\n",
              "│ 2019 ┆ 128312  │\n",
              "│ 2020 ┆ 67720   │\n",
              "│ 2021 ┆ 44136   │\n",
              "│ 2022 ┆ 54049   │\n",
              "│ 2023 ┆ 59416   │\n",
              "│ 2024 ┆ 45884   │\n",
              "└──────┴─────────┘"
            ]
          },
          "execution_count": null,
          "metadata": {},
          "output_type": "execute_result"
        }
      ],
      "source": [
        "rdu_flights.group_by(pl.col('year')).agg(pl.len().alias('flights')).sort(pl.col('year'))"
      ]
    },
    {
      "cell_type": "markdown",
      "metadata": {
        "id": "mNTtm0-Wlts7"
      },
      "source": [
        "This is very handy. I can see the flights increasing at RDU up to the pandemic, and a steady recovery in the last few years (remember, we still don't have a full year of data for 2024). This calculation is so handy, that I'm going to save this expression `pl.len.alias('flights')` so I can use it later without having to retype the entire expression."
      ]
    },
    {
      "cell_type": "code",
      "execution_count": 7,
      "metadata": {
        "id": "v0ruHSYQmHIo"
      },
      "outputs": [],
      "source": [
        "number_of_flights = (pl.len().alias('flights'))"
      ]
    },
    {
      "cell_type": "markdown",
      "metadata": {
        "id": "xPDIQJnJfmed"
      },
      "source": [
        "### Exploratory analysis: Example 2\n",
        "\n",
        "2. Are departure delays increasing or decreasing at RDU each year?\n",
        "\n",
        "We have a variable called `dep_delay` that measures delays in minutes (I note that some flights seem to leave early because there are negative delays). Let's count the number of rows each year where the departure delay is greater than 15 minutes."
      ]
    },
    {
      "cell_type": "code",
      "execution_count": null,
      "metadata": {
        "id": "XbNsevmqbhmI"
      },
      "outputs": [
        {
          "data": {
            "text/html": [
              "<div><style>\n",
              ".dataframe > thead > tr,\n",
              ".dataframe > tbody > tr {\n",
              "  text-align: right;\n",
              "  white-space: pre-wrap;\n",
              "}\n",
              "</style>\n",
              "<small>shape: (15, 2)</small><table border=\"1\" class=\"dataframe\"><thead><tr><th>year</th><th>delayed_flights</th></tr><tr><td>i64</td><td>u32</td></tr></thead><tbody><tr><td>2010</td><td>7339</td></tr><tr><td>2011</td><td>6234</td></tr><tr><td>2012</td><td>6099</td></tr><tr><td>2013</td><td>8003</td></tr><tr><td>2014</td><td>6757</td></tr><tr><td>2015</td><td>5623</td></tr><tr><td>2016</td><td>16182</td></tr><tr><td>2017</td><td>11952</td></tr><tr><td>2018</td><td>23592</td></tr><tr><td>2019</td><td>23146</td></tr><tr><td>2020</td><td>5082</td></tr><tr><td>2021</td><td>5674</td></tr><tr><td>2022</td><td>9896</td></tr><tr><td>2023</td><td>10762</td></tr><tr><td>2024</td><td>9260</td></tr></tbody></table></div>"
            ],
            "text/plain": [
              "shape: (15, 2)\n",
              "┌──────┬─────────────────┐\n",
              "│ year ┆ delayed_flights │\n",
              "│ ---  ┆ ---             │\n",
              "│ i64  ┆ u32             │\n",
              "╞══════╪═════════════════╡\n",
              "│ 2010 ┆ 7339            │\n",
              "│ 2011 ┆ 6234            │\n",
              "│ 2012 ┆ 6099            │\n",
              "│ 2013 ┆ 8003            │\n",
              "│ 2014 ┆ 6757            │\n",
              "│ 2015 ┆ 5623            │\n",
              "│ 2016 ┆ 16182           │\n",
              "│ 2017 ┆ 11952           │\n",
              "│ 2018 ┆ 23592           │\n",
              "│ 2019 ┆ 23146           │\n",
              "│ 2020 ┆ 5082            │\n",
              "│ 2021 ┆ 5674            │\n",
              "│ 2022 ┆ 9896            │\n",
              "│ 2023 ┆ 10762           │\n",
              "│ 2024 ┆ 9260            │\n",
              "└──────┴─────────────────┘"
            ]
          },
          "execution_count": null,
          "metadata": {},
          "output_type": "execute_result"
        }
      ],
      "source": [
        "(\n",
        "rdu_flights\n",
        "    .group_by('year')\n",
        "    .agg(pl.col('dep_delay')\n",
        "        .filter(pl.col('dep_delay') > 15)\n",
        "        .len()\n",
        "        .alias('delayed_flights')\n",
        "    )\n",
        "    .sort('year')\n",
        ")"
      ]
    },
    {
      "cell_type": "markdown",
      "metadata": {
        "id": "4jJ0VQv4i93k"
      },
      "source": [
        "If I'm a researcher for the FAA (or RDU) interested in flight delay data, I might want to use that expression again later. Let's save it in a variable called \"flights_delayed_by_15_minutes\".\n"
      ]
    },
    {
      "cell_type": "code",
      "execution_count": 12,
      "metadata": {
        "id": "soO4qRHDkWVE"
      },
      "outputs": [],
      "source": [
        "flights_delayed_by_15_minutes = (\n",
        "    pl.col('dep_delay')\n",
        "    .filter(pl.col('dep_delay') > 15)\n",
        "    .len()\n",
        "    .alias('delayed_flights')\n",
        ")\n"
      ]
    },
    {
      "cell_type": "markdown",
      "metadata": {
        "id": "a8nTXnnZf9X_"
      },
      "source": [
        "Here is an example of reusing our saved expression (`flights_delayed_by_15_minutes`) in the aggregation (`.agg()`) part of our grouping."
      ]
    },
    {
      "cell_type": "code",
      "execution_count": null,
      "metadata": {
        "id": "-TfrahJ3f8Vp"
      },
      "outputs": [],
      "source": [
        "(\n",
        "rdu_flights\n",
        "    .group_by('year')\n",
        "    .agg(flights_delayed_by_15_minutes)\n",
        "    .sort('year')\n",
        ")"
      ]
    },
    {
      "cell_type": "markdown",
      "metadata": {
        "id": "WLSSboJgkWy5"
      },
      "source": [
        "### Exploratory analysis: Example 3\n",
        "\n",
        "3. Is there some relationship with increases in the number of flights and delays?\n",
        "\n",
        "We've already calculated the number of flights per year and saved that expression (`number_of_flights`).\n",
        "\n",
        "We've also saved the expression that calculates the flights delayed by fifteen minutes (`flights_delayed_by_15_minutes`).\n",
        "\n",
        "We can run the same analysis that groups the data by year and simply provide those two expressions to see our flights and delays together.\n",
        "\n",
        "The `.agg` function will accept a python list (`[]`) of expressions and run each calculation for us.\n",
        "\n",
        "Let's give it a try:"
      ]
    },
    {
      "cell_type": "code",
      "execution_count": null,
      "metadata": {
        "id": "llIv4AYMjINi"
      },
      "outputs": [
        {
          "data": {
            "text/html": [
              "<div><style>\n",
              ".dataframe > thead > tr,\n",
              ".dataframe > tbody > tr {\n",
              "  text-align: right;\n",
              "  white-space: pre-wrap;\n",
              "}\n",
              "</style>\n",
              "<small>shape: (15, 3)</small><table border=\"1\" class=\"dataframe\"><thead><tr><th>year</th><th>flights</th><th>delayed_flights</th></tr><tr><td>i64</td><td>u32</td><td>u32</td></tr></thead><tbody><tr><td>2010</td><td>48924</td><td>7339</td></tr><tr><td>2011</td><td>42620</td><td>6234</td></tr><tr><td>2012</td><td>44016</td><td>6099</td></tr><tr><td>2013</td><td>47983</td><td>8003</td></tr><tr><td>2014</td><td>38813</td><td>6757</td></tr><tr><td>2015</td><td>34898</td><td>5623</td></tr><tr><td>2016</td><td>104895</td><td>16182</td></tr><tr><td>2017</td><td>71874</td><td>11952</td></tr><tr><td>2018</td><td>121448</td><td>23592</td></tr><tr><td>2019</td><td>128312</td><td>23146</td></tr><tr><td>2020</td><td>67720</td><td>5082</td></tr><tr><td>2021</td><td>44136</td><td>5674</td></tr><tr><td>2022</td><td>54049</td><td>9896</td></tr><tr><td>2023</td><td>59416</td><td>10762</td></tr><tr><td>2024</td><td>45884</td><td>9260</td></tr></tbody></table></div>"
            ],
            "text/plain": [
              "shape: (15, 3)\n",
              "┌──────┬─────────┬─────────────────┐\n",
              "│ year ┆ flights ┆ delayed_flights │\n",
              "│ ---  ┆ ---     ┆ ---             │\n",
              "│ i64  ┆ u32     ┆ u32             │\n",
              "╞══════╪═════════╪═════════════════╡\n",
              "│ 2010 ┆ 48924   ┆ 7339            │\n",
              "│ 2011 ┆ 42620   ┆ 6234            │\n",
              "│ 2012 ┆ 44016   ┆ 6099            │\n",
              "│ 2013 ┆ 47983   ┆ 8003            │\n",
              "│ 2014 ┆ 38813   ┆ 6757            │\n",
              "│ 2015 ┆ 34898   ┆ 5623            │\n",
              "│ 2016 ┆ 104895  ┆ 16182           │\n",
              "│ 2017 ┆ 71874   ┆ 11952           │\n",
              "│ 2018 ┆ 121448  ┆ 23592           │\n",
              "│ 2019 ┆ 128312  ┆ 23146           │\n",
              "│ 2020 ┆ 67720   ┆ 5082            │\n",
              "│ 2021 ┆ 44136   ┆ 5674            │\n",
              "│ 2022 ┆ 54049   ┆ 9896            │\n",
              "│ 2023 ┆ 59416   ┆ 10762           │\n",
              "│ 2024 ┆ 45884   ┆ 9260            │\n",
              "└──────┴─────────┴─────────────────┘"
            ]
          },
          "execution_count": null,
          "metadata": {},
          "output_type": "execute_result"
        }
      ],
      "source": [
        "(\n",
        "rdu_flights\n",
        "    .group_by('year')\n",
        "    .agg([number_of_flights,\n",
        "        flights_delayed_by_15_minutes])\n",
        "    .sort('year')\n",
        ")"
      ]
    },
    {
      "cell_type": "markdown",
      "metadata": {
        "id": "tofPVvToiUoM"
      },
      "source": [
        "### Exploratory analysis: Example 4 (if we have time)\n",
        "\n",
        "4. What's the best day of the week in 2014 to fly to Washington, DC (Ronald Reagan National Airport or DCA) if you want the best chance of departing on time?\n",
        "\n",
        "Translation to Polars\n",
        "\n",
        "1. We want flights in 2014: `filter(pl.col('year') = 2014)`\n",
        "2. We want flights to DCA so: `filter(pl.col('dest') == \"DCA\")`\n",
        "3. We also want flights that depart on time so: `filter(pl.col('dep_delay') <= 0)`\n",
        "\n",
        "As we learned earlier, polars allows us to combine these conditions in a single filter command. If the filters are additive (each condition is linked by an AND), polars will allow to list the conditions separated by commas. It will know that all the conditions must apply.\n",
        "\n",
        "\n",
        "4. We haven't covered dates in polars yet, but we have a variable called `departure_date_time` that is a polars `datetime` type. This allows us to query that field for the numerical day of the week (Monday is 1 and Sunday is 7) using this code: `pl.col('departure_date_time).dt.weekday()`. We'll add this to our DataFrame using `with_columns()`.\n",
        "\n",
        "5. In order to calculate the best chance of of departing on time (on any airline) to Reagan National, we need to calculate the average number of on time (or early departures) on average for each day of the week. This calculation requires two groupings.\n",
        "  1. Our first `group_by` creates a DataFrame with the day of the week, the date and the number of flights.\n",
        "  2. The second `group_by` groups the DataFrame from the previous step by day and calculates the average of on-time flights for that day.\n",
        "\n",
        "Let's put these together in code and see what we get.\n"
      ]
    },
    {
      "cell_type": "code",
      "execution_count": null,
      "metadata": {
        "id": "Okf1qWvtvK_7"
      },
      "outputs": [
        {
          "data": {
            "text/html": [
              "<div><style>\n",
              ".dataframe > thead > tr,\n",
              ".dataframe > tbody > tr {\n",
              "  text-align: right;\n",
              "  white-space: pre-wrap;\n",
              "}\n",
              "</style>\n",
              "<small>shape: (7, 2)</small><table border=\"1\" class=\"dataframe\"><thead><tr><th>day_of_week</th><th>avg_daily_on_time_flights</th></tr><tr><td>i8</td><td>f64</td></tr></thead><tbody><tr><td>2</td><td>6.128205</td></tr><tr><td>7</td><td>5.871795</td></tr><tr><td>1</td><td>5.75</td></tr><tr><td>3</td><td>5.435897</td></tr><tr><td>4</td><td>5.410256</td></tr><tr><td>5</td><td>5.216216</td></tr><tr><td>6</td><td>3.157895</td></tr></tbody></table></div>"
            ],
            "text/plain": [
              "shape: (7, 2)\n",
              "┌─────────────┬───────────────────────────┐\n",
              "│ day_of_week ┆ avg_daily_on_time_flights │\n",
              "│ ---         ┆ ---                       │\n",
              "│ i8          ┆ f64                       │\n",
              "╞═════════════╪═══════════════════════════╡\n",
              "│ 2           ┆ 6.128205                  │\n",
              "│ 7           ┆ 5.871795                  │\n",
              "│ 1           ┆ 5.75                      │\n",
              "│ 3           ┆ 5.435897                  │\n",
              "│ 4           ┆ 5.410256                  │\n",
              "│ 5           ┆ 5.216216                  │\n",
              "│ 6           ┆ 3.157895                  │\n",
              "└─────────────┴───────────────────────────┘"
            ]
          },
          "execution_count": null,
          "metadata": {},
          "output_type": "execute_result"
        }
      ],
      "source": [
        "# Coding challenge: can you convert the numeric day?\n",
        "\n",
        "(\n",
        "rdu_flights\n",
        "    .filter(\n",
        "        pl.col('year') == 2024,\n",
        "        pl.col('dest') == \"DCA\",\n",
        "        pl.col('dep_delay') <= 0\n",
        "    )\n",
        "    .with_columns(\n",
        "        pl.col('departure_date_time').dt.weekday().alias('day_of_week')\n",
        "    )\n",
        "    .group_by([pl.col('day_of_week'), pl.col('departure_date_time').dt.date()])\n",
        "        .agg(\n",
        "            pl.len().alias('daily_flights')\n",
        "        )\n",
        "    .group_by('day_of_week')\n",
        "        .agg(\n",
        "            pl.col('daily_flights').mean().alias('avg_daily_on_time_flights')\n",
        "        )\n",
        "    .sort('avg_daily_on_time_flights', descending = True)\n",
        ")"
      ]
    },
    {
      "cell_type": "markdown",
      "metadata": {
        "id": "WfVHPxvAAXe2"
      },
      "source": [
        "Based on 2024 flights, your best bet is flying on Tuesday!"
      ]
    },
    {
      "cell_type": "markdown",
      "metadata": {
        "id": "IBiau553JA0n"
      },
      "source": [
        "## Polars lazy (and extremely fast) API\n",
        "\n",
        "Up to this point, we have used Polars eager application programming interface (API) to process our queries. When we enter commands, we get immediate feedback. This immediate feedback resembles other data manipulation libraries like Pandas (python) and dplyr (R), and should be familar if you have worked in those languages.\n",
        "\n",
        "Polars *lazy API* provides an alternative way of processing large data or working in high performance workflows. Instead of loading data and immediately executing transfomations, Polars evaluates the DataFrame noting the characteristics of the data without loading the data and builds a query graph of the transformations requested. By deferring immediate execution and not loading data until called (the \"lazy\" in Polars \"lazy\" API), the lazy API can significantly optimize data manipulation queries.\n",
        "\n",
        "We won't spend a lot of time looking at Lazy API in today's workshop, but we explore some of its core commands here.\n",
        "\n",
        "### Using the lazy API\n",
        "\n",
        "Implementing the lazy API, generally begins with creating a \"LazyFrame\" (or representation of the DataFrame that does not contain the data). If you have a DataFrame in memory, you can use the `lazy()` method to convert it to a LazyFrame and use the Polars lazy API."
      ]
    },
    {
      "cell_type": "code",
      "execution_count": null,
      "metadata": {
        "id": "3V8kTOL4htaz"
      },
      "outputs": [],
      "source": [
        "lazy_rdu_flights = rdu_flights.lazy()"
      ]
    },
    {
      "cell_type": "markdown",
      "metadata": {
        "id": "LCXEkkobZzmS"
      },
      "source": [
        "It's also possible to scan data into a Polars LazyFrame using one of Polars many \"scan\" methods."
      ]
    },
    {
      "cell_type": "code",
      "execution_count": null,
      "metadata": {
        "id": "9045TzM52Q-s"
      },
      "outputs": [],
      "source": [
        "lazy_rdu_flights = pl.scan_parquet(\"rdu_flights.parquet\")"
      ]
    },
    {
      "cell_type": "markdown",
      "metadata": {
        "id": "2kVzPcpPaN6i"
      },
      "source": [
        "Once you have loaded your data into a lazyframe, the data manipulation steps are identical to the ones that we have used above with one exception - when you start with a LazyFrame, Polars will not provide a DataFrame in the output until you \"materialize\" the DataFrame using the `collect()`.\n",
        "\n",
        "In the examples that follow. The first example uses polars eager API (as we did earlier) to evaluate our query. The second example uses the same query with the lazy API.  I've timed each query (I note that I get varying results on Google Colab...), but generally the lazy API is faster. If you have very big data (more than one million rows and many columns), you should definitely consider the lazy API as part of your analytics strategy!"
      ]
    },
    {
      "cell_type": "code",
      "execution_count": null,
      "metadata": {
        "id": "0F_9FS2k0QJc"
      },
      "outputs": [],
      "source": [
        "# Lets use the Polars eager API\n",
        "%time\n",
        "rdu_flights.group_by('year').agg([\n",
        "    number_of_flights,\n",
        "    flights_delayed_by_15_minutes]\n",
        ").sort('year')"
      ]
    },
    {
      "cell_type": "code",
      "execution_count": null,
      "metadata": {
        "id": "q1m1yJCd0yWv"
      },
      "outputs": [],
      "source": [
        "# Lets use the lazy API\n",
        "%time\n",
        "lazy_rdu_flights.group_by('year').agg(\n",
        "    [\n",
        "        number_of_flights,\n",
        "        flights_delayed_by_15_minutes\n",
        "    ]).sort('year').collect()\n"
      ]
    },
    {
      "cell_type": "markdown",
      "metadata": {
        "id": "9qiwlDozFvbx"
      },
      "source": [
        "# Closing thoughts and questions\n",
        "\n"
      ]
    },
    {
      "cell_type": "markdown",
      "metadata": {
        "id": "5BcFqEratDU5"
      },
      "source": [
        "## Getting help\n",
        "\n",
        "Learning Polars is an iterative process that takes time. It can be frustrating to translate your analysis goals into a new language-- especially if you are very skilled in a given language. The following resources may be of help:  \n",
        "\n",
        "### General resources\n",
        "\n",
        "- *CDVS - Duke Libraries - askdata@duke.edu*  \n",
        "As always, Duke Libraries Center for Data and Visualization Science (askdata@duke.edu) can assist with questions about data management and data wrangling. Consultations are available by appointment.\n",
        "\n",
        "- *Polars API*  \n",
        "While I sometimes disagree with how things are organized... the [Polars Python API](https://docs.pola.rs/api/python/stable/reference/index.html) is an outstanding resource for the latest syntax. If you are questioning the validity of AI suggestions (and sometimes those suggestions are erroneous!), the API can help resolve questions.\n",
        "\n",
        "### LLM (\"AI\") Resources\n",
        "- [Claude.ai](claude.ai) is quite good at code related questions (although you should always verify what it tells you!).\n",
        "- [Microsoft's Co-Pilot](https://oit.duke.edu/service/microsoft-copilot/) is available at Duke and can be helpful.\n",
        "- [Github for Education](https://github.com/education) (*Students and Educators* by application) - Github offers very generous access to its  tools which include github copilot.\n",
        "\n",
        "### eBooks\n",
        "Duke Libraries subscribe to the [O'Reilly for Higher Education](https://go.oreilly.com/duke-university) Database where you will find Jeroen Janssens and Thijs Nieuwdorp's [Python Polars: The Definitive Guide](https://learning.oreilly.com/library/view/python-polars-the/9781098156077/). This is an excellent way to learn Polars and serves as compelling reference.\n",
        "\n",
        "### Data resources\n",
        "We used FAA flight data pulled using the [anyflights]() API. If you would like to investigate this API further check out:  \n",
        "\n",
        "Couch S (2023). anyflights: Query 'nycflights13'-Like Air Travel Data for Given Years and Airports. https://github.com/simonpcouch/anyflights, https://simonpcouch.github.io/anyflights/.\n",
        "\n",
        "### Other polars APIs\n",
        "\n",
        "As mentioned in the introduction, [Polars](https://pola.rs/) is written in Rust and has implementations in Julia, R (check out [TidyPolars](https://tidypolars.etiennebacher.com/), and Javascript. If Polars seems compelling and you regularly use one of those languages, please try one of the other implementations!\n",
        "\n"
      ]
    }
  ],
  "metadata": {
    "colab": {
      "provenance": []
    },
    "kernelspec": {
      "display_name": "Python 3",
      "name": "python3"
    },
    "language_info": {
      "name": "python"
    }
  },
  "nbformat": 4,
  "nbformat_minor": 0
}
